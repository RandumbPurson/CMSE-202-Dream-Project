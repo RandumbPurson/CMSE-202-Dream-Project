{
 "cells": [
  {
   "cell_type": "markdown",
   "id": "341c749e",
   "metadata": {},
   "source": [
    "## Logisitic Regression\n",
    "First we need to load in the data and split it into train and test sets. It looks like each subject has slightly different synset \"classes\" so I'm going to start off doing regression for each subject individually, then if we want we can do some fancy data cleaning stuff to do regression on all of them at once."
   ]
  },
  {
   "cell_type": "code",
   "execution_count": 1,
   "id": "b0278638",
   "metadata": {},
   "outputs": [],
   "source": [
    "import numpy as np\n",
    "import pandas as pd\n",
    "import matplotlib.pyplot as plt\n",
    "\n",
    "import statsmodels.api as sm\n",
    "from sklearn.model_selection import train_test_split\n",
    "from sklearn.linear_model import LogisticRegression\n",
    "from sklearn.metrics import precision_recall_curve, auc\n",
    "\n",
    "from utils import load_data\n"
   ]
  },
  {
   "cell_type": "code",
   "execution_count": 2,
   "id": "dcd11baf",
   "metadata": {},
   "outputs": [
    {
     "name": "stdout",
     "output_type": "stream",
     "text": [
      "(4039, 43) (235, 4039)\n"
     ]
    }
   ],
   "source": [
    "masks, data = load_data(1)\n",
    "print(masks.shape, data.shape)"
   ]
  },
  {
   "cell_type": "markdown",
   "id": "0d777583",
   "metadata": {},
   "source": [
    "We are going to start by splitting the data. Our masks are unaffected by this split so we want to do this first before we try accessing anything with the masks."
   ]
  },
  {
   "cell_type": "code",
   "execution_count": 3,
   "id": "4f616c42",
   "metadata": {},
   "outputs": [
    {
     "name": "stdout",
     "output_type": "stream",
     "text": [
      "(188, 4039) (47, 4039)\n"
     ]
    }
   ],
   "source": [
    "train_data, test_data = train_test_split(data, test_size=0.2)\n",
    "print(train_data.shape, test_data.shape)"
   ]
  },
  {
   "cell_type": "code",
   "execution_count": 4,
   "id": "2f17cbd5",
   "metadata": {},
   "outputs": [
    {
     "name": "stdout",
     "output_type": "stream",
     "text": [
      "writing\n"
     ]
    }
   ],
   "source": [
    "def trim_front_back(instring, fstring, bstring):\n",
    "    \"\"\"Helper function to format class labels\"\"\"\n",
    "    fpos = instring.find(fstring) + len(fstring)\n",
    "    bpos = instring.find(bstring)\n",
    "    return instring[fpos:bpos]\n",
    "\n",
    "teststring = \"Synset_writing_ID_06362953\"\n",
    "print(trim_front_back(teststring, \"Synset_\", \"_ID\"))"
   ]
  },
  {
   "cell_type": "markdown",
   "id": "536a5393",
   "metadata": {},
   "source": [
    "Each mask provides the location of the corresponding class label within the data. We want to get these values as an array in the shape `[observations, labels]`. Since the masks all refer to a unique index we can just combine them into a single mask indicating the position of each element. (Kinda a janky version of [one-hot encoding](https://www.kaggle.com/code/dansbecker/using-categorical-data-with-one-hot-encoding/notebook))"
   ]
  },
  {
   "cell_type": "code",
   "execution_count": 5,
   "id": "0a154a5e",
   "metadata": {},
   "outputs": [
    {
     "name": "stdout",
     "output_type": "stream",
     "text": [
      "['building', 'chair', 'character', 'clothing', 'code', 'cognition', 'external_body_part', 'geographical_area', 'girl', 'group', 'illustration', 'implement', 'line', 'male', 'material', 'natural_object', 'performer', 'picture', 'room', 'shape', 'table', 'vertebrate', 'way', 'window', 'workplace', 'writing'] [4016 4018 4011 4017 4030 4027 4014 4034 4025 4028 4033 4022 4032 4010\n",
      " 4026 4015 4035 4019 4012 4020 4029 4021 4023 4024 4013 4031]\n"
     ]
    }
   ],
   "source": [
    "def encode_labels(masks):\n",
    "    label_columns_mask = [\"Synset\" in colname for colname in masks.columns]\n",
    "    label_colnames = masks.columns[label_columns_mask]\n",
    "    label_names = [trim_front_back(name, \"Synset_\", \"_ID\") for name in label_colnames]\n",
    "    label_indices = np.stack([masks[name].to_numpy().nonzero() for name in label_colnames]).squeeze()\n",
    "    return label_names, label_indices\n",
    "\n",
    "label_names, label_indices = encode_labels(masks)\n",
    "print(label_names, label_indices)"
   ]
  },
  {
   "cell_type": "markdown",
   "id": "4d9ed5c9",
   "metadata": {},
   "source": [
    "We can now use `label_indices` to access the data and get the one-hot encodings. I do this as an example below, but ideally we do this after we split our data."
   ]
  },
  {
   "cell_type": "code",
   "execution_count": 6,
   "id": "5a91d1af",
   "metadata": {
    "scrolled": true
   },
   "outputs": [
    {
     "data": {
      "text/plain": [
       "(188, 26)"
      ]
     },
     "execution_count": 6,
     "metadata": {},
     "output_type": "execute_result"
    }
   ],
   "source": [
    "def get_onehot_labels_df(data, label_indices, label_names):\n",
    "    label_data = data[:, label_indices]\n",
    "    label_df = pd.DataFrame(label_data, columns = label_names)\n",
    "    return label_df\n",
    "\n",
    "get_onehot_labels_df(train_data, label_indices, label_names).shape"
   ]
  },
  {
   "cell_type": "markdown",
   "id": "41609559",
   "metadata": {},
   "source": [
    "`label_df` is now a dataframe where the rows correspond to entries in the data and the columns correspond to whether or not a particular class appeared within the subject's dream for that entry. \n",
    "\n",
    "We can also choose to combine feature areas later if we want, but for now we will keep each feature area as an individual mask and define a function to get a particular set of features."
   ]
  },
  {
   "cell_type": "code",
   "execution_count": 7,
   "id": "7df7a605",
   "metadata": {
    "scrolled": true
   },
   "outputs": [
    {
     "data": {
      "text/html": [
       "<div>\n",
       "<style scoped>\n",
       "    .dataframe tbody tr th:only-of-type {\n",
       "        vertical-align: middle;\n",
       "    }\n",
       "\n",
       "    .dataframe tbody tr th {\n",
       "        vertical-align: top;\n",
       "    }\n",
       "\n",
       "    .dataframe thead th {\n",
       "        text-align: right;\n",
       "    }\n",
       "</style>\n",
       "<table border=\"1\" class=\"dataframe\">\n",
       "  <thead>\n",
       "    <tr style=\"text-align: right;\">\n",
       "      <th></th>\n",
       "      <th>FFA</th>\n",
       "      <th>HVC</th>\n",
       "      <th>LOC</th>\n",
       "      <th>LVC</th>\n",
       "      <th>PPA</th>\n",
       "      <th>V1</th>\n",
       "      <th>V2</th>\n",
       "      <th>V3</th>\n",
       "    </tr>\n",
       "  </thead>\n",
       "  <tbody>\n",
       "    <tr>\n",
       "      <th>0</th>\n",
       "      <td>0.0</td>\n",
       "      <td>1.0</td>\n",
       "      <td>0.0</td>\n",
       "      <td>0.0</td>\n",
       "      <td>0.0</td>\n",
       "      <td>0.0</td>\n",
       "      <td>0.0</td>\n",
       "      <td>0.0</td>\n",
       "    </tr>\n",
       "    <tr>\n",
       "      <th>1</th>\n",
       "      <td>0.0</td>\n",
       "      <td>1.0</td>\n",
       "      <td>0.0</td>\n",
       "      <td>0.0</td>\n",
       "      <td>0.0</td>\n",
       "      <td>0.0</td>\n",
       "      <td>0.0</td>\n",
       "      <td>0.0</td>\n",
       "    </tr>\n",
       "    <tr>\n",
       "      <th>2</th>\n",
       "      <td>0.0</td>\n",
       "      <td>1.0</td>\n",
       "      <td>0.0</td>\n",
       "      <td>0.0</td>\n",
       "      <td>0.0</td>\n",
       "      <td>0.0</td>\n",
       "      <td>0.0</td>\n",
       "      <td>0.0</td>\n",
       "    </tr>\n",
       "    <tr>\n",
       "      <th>3</th>\n",
       "      <td>0.0</td>\n",
       "      <td>1.0</td>\n",
       "      <td>0.0</td>\n",
       "      <td>0.0</td>\n",
       "      <td>0.0</td>\n",
       "      <td>0.0</td>\n",
       "      <td>0.0</td>\n",
       "      <td>0.0</td>\n",
       "    </tr>\n",
       "    <tr>\n",
       "      <th>4</th>\n",
       "      <td>0.0</td>\n",
       "      <td>1.0</td>\n",
       "      <td>1.0</td>\n",
       "      <td>0.0</td>\n",
       "      <td>0.0</td>\n",
       "      <td>0.0</td>\n",
       "      <td>0.0</td>\n",
       "      <td>0.0</td>\n",
       "    </tr>\n",
       "  </tbody>\n",
       "</table>\n",
       "</div>"
      ],
      "text/plain": [
       "   FFA  HVC  LOC  LVC  PPA   V1   V2   V3\n",
       "0  0.0  1.0  0.0  0.0  0.0  0.0  0.0  0.0\n",
       "1  0.0  1.0  0.0  0.0  0.0  0.0  0.0  0.0\n",
       "2  0.0  1.0  0.0  0.0  0.0  0.0  0.0  0.0\n",
       "3  0.0  1.0  0.0  0.0  0.0  0.0  0.0  0.0\n",
       "4  0.0  1.0  1.0  0.0  0.0  0.0  0.0  0.0"
      ]
     },
     "execution_count": 7,
     "metadata": {},
     "output_type": "execute_result"
    }
   ],
   "source": [
    "feature_names = [\"FFA\", \"HVC\", \"LOC\", \"LVC\", \"PPA\", \"V1\", \"V2\", \"V3\"]\n",
    "feature_df = masks[feature_names]\n",
    "feature_df.head()"
   ]
  },
  {
   "cell_type": "code",
   "execution_count": 8,
   "id": "711f27c4",
   "metadata": {},
   "outputs": [
    {
     "data": {
      "text/plain": [
       "(188, 537)"
      ]
     },
     "execution_count": 8,
     "metadata": {},
     "output_type": "execute_result"
    }
   ],
   "source": [
    "def get_features_arr(data, feature_df, feature):\n",
    "    feature_mask = feature_df[feature].to_numpy().astype(bool)\n",
    "    feature_data = data[:, feature_mask]\n",
    "    return feature_data\n",
    "\n",
    "get_features_arr(train_data, feature_df, \"FFA\").shape"
   ]
  },
  {
   "cell_type": "markdown",
   "id": "8729287b",
   "metadata": {},
   "source": [
    "Now we can do our logistic regression"
   ]
  },
  {
   "cell_type": "code",
   "execution_count": 9,
   "id": "4e0c13c5",
   "metadata": {},
   "outputs": [],
   "source": [
    "def plot_pr_curve(model, testx, testy):\n",
    "    pos_probas = model.predict_proba(testx)[:, 1]\n",
    "    precision, recall, thresh = precision_recall_curve(testy, pos_probas)\n",
    "    ap = auc(recall, precision)\n",
    "    print(f\"average precision: {ap}\")\n",
    "\n",
    "    plt.figure()\n",
    "    plt.plot(recall, precision)\n",
    "    plt.xlabel(\"recall\")\n",
    "    plt.ylabel(\"precision\")"
   ]
  },
  {
   "cell_type": "code",
   "execution_count": 10,
   "id": "a97eba5f",
   "metadata": {},
   "outputs": [
    {
     "name": "stdout",
     "output_type": "stream",
     "text": [
      "['building', 'chair', 'character', 'clothing', 'code', 'cognition', 'external_body_part', 'geographical_area', 'girl', 'group', 'illustration', 'implement', 'line', 'male', 'material', 'natural_object', 'performer', 'picture', 'room', 'shape', 'table', 'vertebrate', 'way', 'window', 'workplace', 'writing']\n",
      "['FFA', 'HVC', 'LOC', 'LVC', 'PPA', 'V1', 'V2', 'V3']\n"
     ]
    }
   ],
   "source": [
    "print(label_names)\n",
    "print(feature_names)"
   ]
  },
  {
   "cell_type": "code",
   "execution_count": 11,
   "id": "3d06a903",
   "metadata": {
    "scrolled": true
   },
   "outputs": [
    {
     "name": "stdout",
     "output_type": "stream",
     "text": [
      "running for class:girl...\n",
      "average precision: nan\n",
      "running for class:character...\n",
      "average precision: 0.11402730648284684\n",
      "running for class:building...\n",
      "average precision: 0.07476943346508563\n"
     ]
    },
    {
     "name": "stderr",
     "output_type": "stream",
     "text": [
      "/home/emmaf/anaconda3/lib/python3.9/site-packages/sklearn/metrics/_ranking.py:864: RuntimeWarning: invalid value encountered in true_divide\n",
      "  recall = tps / tps[-1]\n"
     ]
    },
    {
     "data": {
      "image/png": "[encoded data removed]",
      "text/plain": [
       "<Figure size 640x480 with 1 Axes>"
      ]
     },
     "metadata": {},
     "output_type": "display_data"
    },
    {
     "data": {
      "image/png": "[encoded data removed]",
      "text/plain": [
       "<Figure size 640x480 with 1 Axes>"
      ]
     },
     "metadata": {},
     "output_type": "display_data"
    },
    {
     "data": {
      "image/png": "[encoded data removed]",
      "text/plain": [
       "<Figure size 640x480 with 1 Axes>"
      ]
     },
     "metadata": {},
     "output_type": "display_data"
    }
   ],
   "source": [
    "def run_model(class_name, feature_name):\n",
    "    print(f\"running for class:{class_name}...\")\n",
    "    class_idx = label_names.index(class_name)\n",
    "\n",
    "    trainy = get_onehot_labels_df(train_data, label_indices, label_names).to_numpy()[:, class_idx]\n",
    "    trainx = get_features_arr(train_data, feature_df, feature_name)\n",
    "    testy = get_onehot_labels_df(test_data, label_indices, label_names).to_numpy()[:, class_idx]\n",
    "    testx = get_features_arr(test_data, feature_df, feature_name)\n",
    "\n",
    "\n",
    "    model = LogisticRegression(solver=\"lbfgs\", max_iter=1000).fit(trainx, trainy)\n",
    "\n",
    "    plot_pr_curve(model, testx, testy)\n",
    "\n",
    "run_model(\"girl\", \"FFA\")\n",
    "run_model(\"character\", \"FFA\")\n",
    "run_model(\"building\", \"FFA\")"
   ]
  },
  {
   "cell_type": "markdown",
   "id": "787eec27",
   "metadata": {},
   "source": [
    "This gives some really interesting results! The FFA is the facial detection area, and you can tell just from the results. We get an average precision of 0.14 for \"girl\" class and 0.18 for \"character\". Neither of these are particularly good, but they're much higher than the other classes like \"building\" which has an ap of 0.05"
   ]
  },
  {
   "cell_type": "markdown",
   "id": "a6e60c41",
   "metadata": {},
   "source": [
    "## DreamLR class\n",
    "A utility class wrapping all of the above logic used to quickly instantiate and run logistic regression. Demonstrated below..."
   ]
  },
  {
   "cell_type": "code",
   "execution_count": 12,
   "id": "e70303c9",
   "metadata": {},
   "outputs": [
    {
     "name": "stdout",
     "output_type": "stream",
     "text": [
      "running for class:male...\n"
     ]
    },
    {
     "data": {
      "text/plain": [
       "(LogisticRegression(class_weight='balanced', max_iter=1000),\n",
       " array([[-0.15079016,  0.97366162,  0.73177401, ...,  0.73961851,\n",
       "          2.90064092,  2.22351575],\n",
       "        [ 1.06930543,  0.33941161,  0.94636758, ...,  0.24315581,\n",
       "          0.30749382, -0.07971459],\n",
       "        [ 1.54535194,  0.19725629,  1.24739429, ...,  0.04145831,\n",
       "         -0.90347699, -1.18895468],\n",
       "        ...,\n",
       "        [-3.29814704,  0.73140003, -0.26995263, ...,  0.37032591,\n",
       "          0.06874013, -8.69463427],\n",
       "        [-0.48046354, -0.10738326, -0.41046938, ...,  1.1024443 ,\n",
       "         -0.20874998,  0.59452793],\n",
       "        [ 1.79298258,  0.88235178, -0.44732057, ...,  0.13484423,\n",
       "         -0.33282819, -0.69484582]]),\n",
       " array([0., 0., 0., 0., 1., 0., 0., 0., 0., 0., 1., 0., 0., 0., 0., 0., 0.,\n",
       "        1., 0., 0., 0., 0., 0., 1., 0., 0., 0., 1., 0., 0., 0., 0., 0., 0.,\n",
       "        0., 0., 0., 0., 0., 0.]))"
      ]
     },
     "execution_count": 12,
     "metadata": {},
     "output_type": "execute_result"
    }
   ],
   "source": [
    "from utils import load_data\n",
    "from models import DreamLR\n",
    "\n",
    "masks, data = load_data(2) # get data for subject 2\n",
    "\n",
    "lr = DreamLR(masks, data) # instantiate using subject 2's data\n",
    "lr.run(\"FFA\", class_name=\"male\") # run model to predict \"male\" class using the FFA region"
   ]
  },
  {
   "cell_type": "markdown",
   "id": "3bda554c",
   "metadata": {},
   "source": [
    "# TODO\n",
    "- [ ] Combine Feature regions\n",
    "- [ ] Combine data across subjects for larger pool"
   ]
  },
  {
   "cell_type": "code",
   "execution_count": 13,
   "id": "bde6b31d",
   "metadata": {},
   "outputs": [
    {
     "name": "stdout",
     "output_type": "stream",
     "text": [
      "['building', 'chair', 'character', 'clothing', 'code', 'cognition', 'external_body_part', 'geographical_area', 'girl', 'group', 'illustration', 'implement', 'line', 'male', 'material', 'natural_object', 'performer', 'picture', 'room', 'shape', 'table', 'vertebrate', 'way', 'window', 'workplace', 'writing']\n"
     ]
    },
    {
     "data": {
      "text/plain": [
       "array([1., 0., 0., 0., 0., 0., 1., 0., 0., 0., 1., 0., 0., 0., 0., 0., 0.,\n",
       "       0., 0., 0., 0., 0., 1., 0., 0., 0., 0., 0., 0., 0., 0., 0., 0., 0.,\n",
       "       0., 0., 0., 0., 0., 0., 0., 0., 0., 0., 0., 0., 0., 0., 0., 0., 0.,\n",
       "       0., 0., 0., 0., 0., 0., 0., 0., 0., 0., 0., 0., 0., 0., 0., 0., 0.,\n",
       "       0., 0., 0., 0., 0., 0., 0., 1., 0., 0., 0., 0., 0., 0., 0., 0., 0.,\n",
       "       0., 0., 0., 0., 0., 0., 0., 0., 0., 0., 0., 0., 0., 0., 0., 0., 0.,\n",
       "       0., 0., 0., 0., 0., 0., 0., 0., 0., 0., 0., 0., 0., 0., 0., 0., 0.,\n",
       "       0., 0., 0., 0., 0., 0., 0., 0., 0., 1., 0., 0., 0., 0., 0., 0., 0.,\n",
       "       0., 0., 0., 0., 0., 0., 0., 0., 0., 0., 0., 0., 0., 0., 0., 0., 0.,\n",
       "       0., 0., 0., 0., 0., 0., 0., 0., 0., 0., 0., 0., 0., 0., 0., 0., 0.,\n",
       "       0., 0., 0., 0., 1., 1., 0., 0., 0., 0., 0., 0., 0., 0., 0., 0., 0.,\n",
       "       0., 0., 0., 0., 0., 1., 0., 0., 0., 0., 0., 0., 0., 0., 0., 0., 0.,\n",
       "       1., 1., 0., 0., 0., 0., 0., 0., 0., 0., 0., 0., 0., 0., 0., 0., 0.,\n",
       "       0., 0., 0., 0., 0., 0., 0., 0., 0., 0., 0., 0., 0., 0.])"
      ]
     },
     "execution_count": 13,
     "metadata": {},
     "output_type": "execute_result"
    }
   ],
   "source": [
    "from utils import load_data, DataHandler\n",
    "from models import DreamLR\n",
    "\n",
    "masks, data = load_data(1)\n",
    "datahandler = DataHandler(masks, data, test_size=0)\n",
    "trainx = datahandler.get_feature([\"FFA\", \"V1\"], \"train\")\n",
    "trainy = datahandler.get_labels(\"building\", \"train\")\n",
    "\n",
    "print(datahandler.label_names)\n",
    "datahandler.get_labels(\"girl\")\n"
   ]
  },
  {
   "cell_type": "code",
   "execution_count": 14,
   "id": "e10ca11a",
   "metadata": {},
   "outputs": [
    {
     "data": {
      "text/plain": [
       "['__class__',\n",
       " '__delattr__',\n",
       " '__dict__',\n",
       " '__dir__',\n",
       " '__doc__',\n",
       " '__eq__',\n",
       " '__format__',\n",
       " '__ge__',\n",
       " '__getattribute__',\n",
       " '__gt__',\n",
       " '__hash__',\n",
       " '__init__',\n",
       " '__init_subclass__',\n",
       " '__le__',\n",
       " '__lt__',\n",
       " '__module__',\n",
       " '__ne__',\n",
       " '__new__',\n",
       " '__reduce__',\n",
       " '__reduce_ex__',\n",
       " '__repr__',\n",
       " '__setattr__',\n",
       " '__sizeof__',\n",
       " '__str__',\n",
       " '__subclasshook__',\n",
       " '__weakref__',\n",
       " 'run']"
      ]
     },
     "execution_count": 14,
     "metadata": {},
     "output_type": "execute_result"
    }
   ],
   "source": [
    "\n",
    "dir(DreamLR)"
   ]
  },
  {
   "cell_type": "code",
   "execution_count": null,
   "id": "8c8c68de",
   "metadata": {},
   "outputs": [],
   "source": []
  }
 ],
 "metadata": {
  "kernelspec": {
   "display_name": "Python 3.9.13 ('base')",
   "language": "python",
   "name": "python3"
  },
  "language_info": {
   "codemirror_mode": {
    "name": "ipython",
    "version": 3
   },
   "file_extension": ".py",
   "mimetype": "text/x-python",
   "name": "python",
   "nbconvert_exporter": "python",
   "pygments_lexer": "ipython3",
   "version": "3.9.13"
  },
  "vscode": {
   "interpreter": {
    "hash": "26157150a5e9d0ec9df9ce1ced9e4b897b027a9c19d4de2906109d5a8488f524"
   }
  }
 },
 "nbformat": 4,
 "nbformat_minor": 5
}
