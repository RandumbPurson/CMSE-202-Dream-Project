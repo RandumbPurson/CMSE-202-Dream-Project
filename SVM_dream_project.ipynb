{
 "cells": [
  {
   "cell_type": "markdown",
   "id": "499e12af",
   "metadata": {},
   "source": [
    "## Importing the data into my notebook\n",
    "\n",
    "Much of the code below is found in the Exploration.ipynb file in the repository"
   ]
  },
  {
   "cell_type": "code",
   "execution_count": 80,
   "id": "1301575e",
   "metadata": {},
   "outputs": [
    {
     "name": "stdout",
     "output_type": "stream",
     "text": [
      "PreprocessedPerceptionDataSubject1.h5\r\n",
      "PreprocessedPerceptionDataSubject1.h5.zip\r\n",
      "PreprocessedPerceptionDataSubject2.h5\r\n",
      "PreprocessedPerceptionDataSubject3.h5\r\n",
      "PreprocessedSleepDataSubject1.h5\r\n",
      "PreprocessedSleepDataSubject2.h5\r\n",
      "PreprocessedSleepDataSubject3.h5\r\n",
      "propsSubject1.h5\r\n",
      "propsSubject2.h5\r\n",
      "propsSubject3.h5\r\n"
     ]
    }
   ],
   "source": [
    "! ls preproc"
   ]
  },
  {
   "cell_type": "code",
   "execution_count": 81,
   "id": "0e8326e2",
   "metadata": {},
   "outputs": [],
   "source": [
    "import h5py\n",
    "import os"
   ]
  },
  {
   "cell_type": "code",
   "execution_count": 82,
   "id": "8f44cca5",
   "metadata": {},
   "outputs": [],
   "source": [
    "root = \"preproc\"\n",
    "perc = os.path.join(root, \"PreprocessedPerceptionDataSubject1.h5\")\n",
    "sleep = os.path.join(root, \"PreprocessedSleepDataSubject1.h5\")\n",
    "props = os.path.join(root, \"propsSubject1.h5\")"
   ]
  },
  {
   "cell_type": "code",
   "execution_count": 83,
   "id": "f454e5a0",
   "metadata": {},
   "outputs": [
    {
     "data": {
      "text/plain": [
       "<KeysViewHDF5 ['data', 'metaData', 'metaDefinition']>"
      ]
     },
     "execution_count": 83,
     "metadata": {},
     "output_type": "execute_result"
    }
   ],
   "source": [
    "dfile = h5py.File(sleep, \"r\")\n",
    "dfile.keys()"
   ]
  },
  {
   "cell_type": "code",
   "execution_count": 84,
   "id": "86da8f0f",
   "metadata": {},
   "outputs": [
    {
     "name": "stdout",
     "output_type": "stream",
     "text": [
      "data (235, 4039) float64 [-1.23439404 -0.48702744  1.19918902 ...  1.          1.\n",
      "  1.        ]\n",
      "\n",
      "metaData <HDF5 group \"/metaData\" (43 members)> <class 'str'>\n",
      "\n",
      "metaDefinition (43,) |S33 b'0 = not voxelData, 1 = voxelData'\n",
      "\n"
     ]
    }
   ],
   "source": [
    "for key in dfile.keys():\n",
    "    dset = dfile[key]\n",
    "    try:\n",
    "        print(key, dset.shape, dset.dtype, dset[0], end=\"\\n\\n\")\n",
    "    except:\n",
    "        print(key, dset, type(key), end=\"\\n\\n\")"
   ]
  },
  {
   "cell_type": "code",
   "execution_count": 85,
   "id": "bbfd7485",
   "metadata": {},
   "outputs": [
    {
     "data": {
      "text/plain": [
       "(198, 3981)"
      ]
     },
     "execution_count": 85,
     "metadata": {},
     "output_type": "execute_result"
    }
   ],
   "source": [
    "tfile = h5py.File(os.path.join(root, \"PreprocessedSleepDataSubject2.h5\"), \"r\")\n",
    "tfile[\"data\"].shape"
   ]
  },
  {
   "cell_type": "code",
   "execution_count": 86,
   "id": "a4f44535",
   "metadata": {},
   "outputs": [
    {
     "name": "stdout",
     "output_type": "stream",
     "text": [
      "0 EEG_sleep_score (1, 4039)  --  b'0 = not voxelData, 1 = voxelData'\n",
      "1 FFA (1, 4039)  --  b'Value = X coordinate'\n",
      "2 HVC (1, 4039)  --  b'Value = Y coordinate'\n",
      "3 LOC (1, 4039)  --  b'Value = Z coordinate'\n",
      "4 LVC (1, 4039)  --  b'0 = not FFA voxel, 1 = FFA voxel'\n",
      "5 PPA (1, 4039)  --  b'0 = not HVC voxel, 1 = HVC voxel'\n",
      "6 Synset_building_ID_02913152 (1, 4039)  --  b'0 = not LOC voxel, 1 = LOC voxel'\n",
      "7 Synset_chair_ID_03001627 (1, 4039)  --  b'0 = not LVC voxel, 1 = LVC voxel'\n",
      "8 Synset_character_ID_06818970 (1, 4039)  --  b'0 = not PPA voxel, 1 = PPA voxel'\n",
      "9 Synset_clothing_ID_03051540 (1, 4039)  --  b'0 = not V1 voxel, 1 = V1 voxel'\n",
      "10 Synset_code_ID_06355894 (1, 4039)  --  b'0 = not V2 voxel, 1 = V2 voxel'\n",
      "11 Synset_cognition_ID_00023271 (1, 4039)  --  b'0 = not V3 voxel, 1 = V3 voxel'\n",
      "12 Synset_external_body_part_ID_05225090 (1, 4039)  --  b'0 = not label, 1 = label'\n",
      "13 Synset_geographical_area_ID_08574314 (1, 4039)  --  b'0 = absent, 1 = present'\n",
      "14 Synset_girl_ID_10129825 (1, 4039)  --  b'0 = absent, 1 = present'\n",
      "15 Synset_group_ID_00031264 (1, 4039)  --  b'0 = absent, 1 = present'\n",
      "16 Synset_illustration_ID_06999233 (1, 4039)  --  b'0 = absent, 1 = present'\n",
      "17 Synset_implement_ID_03563967 (1, 4039)  --  b'0 = absent, 1 = present'\n",
      "18 Synset_line_ID_06799897 (1, 4039)  --  b'0 = absent, 1 = present'\n",
      "19 Synset_male_ID_09624168 (1, 4039)  --  b'0 = absent, 1 = present'\n",
      "20 Synset_material_ID_14580897 (1, 4039)  --  b'0 = absent, 1 = present'\n",
      "21 Synset_natural_object_ID_00019128 (1, 4039)  --  b'0 = absent, 1 = present'\n",
      "22 Synset_performer_ID_10415638 (1, 4039)  --  b'0 = absent, 1 = present'\n",
      "23 Synset_picture_ID_03931044 (1, 4039)  --  b'0 = absent, 1 = present'\n",
      "24 Synset_room_ID_04105893 (1, 4039)  --  b'0 = absent, 1 = present'\n",
      "25 Synset_shape_ID_00027807 (1, 4039)  --  b'0 = absent, 1 = present'\n",
      "26 Synset_table_ID_04379243 (1, 4039)  --  b'0 = absent, 1 = present'\n",
      "27 Synset_vertebrate_ID_01471682 (1, 4039)  --  b'0 = absent, 1 = present'\n",
      "28 Synset_way_ID_04564698 (1, 4039)  --  b'0 = absent, 1 = present'\n",
      "29 Synset_window_ID_04588739 (1, 4039)  --  b'0 = absent, 1 = present'\n",
      "30 Synset_workplace_ID_04602044 (1, 4039)  --  b'0 = absent, 1 = present'\n",
      "31 Synset_writing_ID_06362953 (1, 4039)  --  b'0 = absent, 1 = present'\n",
      "32 V1 (1, 4039)  --  b'0 = absent, 1 = present'\n",
      "33 V2 (1, 4039)  --  b'0 = absent, 1 = present'\n",
      "34 V3 (1, 4039)  --  b'0 = absent, 1 = present'\n",
      "35 X (1, 4039)  --  b'0 = absent, 1 = present'\n",
      "36 Y (1, 4039)  --  b'0 = absent, 1 = present'\n",
      "37 Z (1, 4039)  --  b'0 = absent, 1 = present'\n",
      "38 design (1, 4039)  --  b'0 = absent, 1 = present'\n",
      "39 label (1, 4039)  --  b'0 = absent, 1 = present'\n",
      "40 sample_number (1, 4039)  --  b'0 = not design, 1 = design'\n",
      "41 session_number (1, 4039)  --  b'Number = Sesssion number'\n",
      "42 voxelData (1, 4039)  --  b'Number = Sample number'\n"
     ]
    }
   ],
   "source": [
    "data = dfile[\"data\"]\n",
    "mdata = dfile[\"metaData\"]\n",
    "mdef = dfile[\"metaDefinition\"]\n",
    "for i, key in enumerate(mdata):\n",
    "    print(i, key, mdata[key].shape, \" -- \",mdef[i])"
   ]
  },
  {
   "cell_type": "code",
   "execution_count": 87,
   "id": "249340d9",
   "metadata": {},
   "outputs": [
    {
     "data": {
      "text/plain": [
       "<KeysViewHDF5 ['roiMask', 'roiNames', 'synsetNames', 'synsetPairs', 'xyz']>"
      ]
     },
     "execution_count": 87,
     "metadata": {},
     "output_type": "execute_result"
    }
   ],
   "source": [
    "pfile = h5py.File(props, \"r\")\n",
    "pfile.keys()"
   ]
  },
  {
   "cell_type": "code",
   "execution_count": 88,
   "id": "0b20d2a9",
   "metadata": {},
   "outputs": [
    {
     "name": "stdout",
     "output_type": "stream",
     "text": [
      "roiMask (8, 4010) float64 [0. 0. 0. ... 0. 0. 0.]\n",
      "\n",
      "roiNames (8,) |S4 b'FFA'\n",
      "\n",
      "synsetNames (26,) |S38 b'Synset_male_ID_09624168'\n",
      "\n",
      "synsetPairs (201, 2) |S38 [b'Synset_character_ID_06818970' b'Synset_male_ID_09624168']\n",
      "\n",
      "xyz (3, 4010) float64 [-67.5 -67.5 -67.5 ...  64.5  64.5  64.5]\n",
      "\n"
     ]
    }
   ],
   "source": [
    "\n",
    "for key in pfile.keys():\n",
    "    dset = pfile[key]\n",
    "    try:\n",
    "        print(key, dset.shape, dset.dtype, dset[0], end=\"\\n\\n\")\n",
    "    except:\n",
    "        print(key, dset, type(key), end=\"\\n\\n\")"
   ]
  },
  {
   "cell_type": "code",
   "execution_count": 89,
   "id": "7549da44",
   "metadata": {},
   "outputs": [
    {
     "name": "stdout",
     "output_type": "stream",
     "text": [
      "537.0 b'FFA'\n",
      "[-67.5 -43.5  -4.5]\n",
      "b'FFA'  --  537.0  --  537.0\n",
      "b'HVC'  --  1956.0  --  1956.0\n",
      "b'LOC'  --  523.0  --  523.0\n",
      "b'LVC'  --  2054.0  --  2054.0\n",
      "b'PPA'  --  353.0  --  353.0\n",
      "b'V1'  --  885.0  --  885.0\n",
      "b'V2'  --  901.0  --  901.0\n",
      "b'V3'  --  728.0  --  728.0\n"
     ]
    }
   ],
   "source": [
    "rmask = pfile[\"roiMask\"]\n",
    "rnames = pfile[\"roiNames\"]\n",
    "xyz = pfile[\"xyz\"]\n",
    "\n",
    "print(rmask[0, :].sum(), rnames[0])\n",
    "print(xyz[:, 2])\n",
    "\n",
    "for region in range(len(rnames)):\n",
    "    numel = rmask[region].sum() # number of \"1\" elements in the roi masks\n",
    "    numel_d = sum(mdata[rnames[region]][0]) # number of \"1\" elements in corresponding mdata masks\n",
    "    print(rnames[region], \" -- \", numel, \" -- \", numel_d) # should both be the same"
   ]
  },
  {
   "cell_type": "code",
   "execution_count": 90,
   "id": "5dfd1083",
   "metadata": {},
   "outputs": [
    {
     "name": "stdout",
     "output_type": "stream",
     "text": [
      "(235, 4039)\n",
      "(4010,)\n"
     ]
    }
   ],
   "source": [
    "print(data.shape)\n",
    "ffa_mask = rmask[0].astype(bool)\n",
    "print(ffa_mask.shape)"
   ]
  },
  {
   "cell_type": "code",
   "execution_count": 91,
   "id": "47066d8d",
   "metadata": {},
   "outputs": [],
   "source": [
    "import numpy as np\n",
    "import pandas as pd"
   ]
  },
  {
   "cell_type": "code",
   "execution_count": 92,
   "id": "ddaa0003",
   "metadata": {},
   "outputs": [
    {
     "name": "stdout",
     "output_type": "stream",
     "text": [
      "(4039, 43)\n"
     ]
    },
    {
     "data": {
      "text/html": [
       "<div>\n",
       "<style scoped>\n",
       "    .dataframe tbody tr th:only-of-type {\n",
       "        vertical-align: middle;\n",
       "    }\n",
       "\n",
       "    .dataframe tbody tr th {\n",
       "        vertical-align: top;\n",
       "    }\n",
       "\n",
       "    .dataframe thead th {\n",
       "        text-align: right;\n",
       "    }\n",
       "</style>\n",
       "<table border=\"1\" class=\"dataframe\">\n",
       "  <thead>\n",
       "    <tr style=\"text-align: right;\">\n",
       "      <th></th>\n",
       "      <th>EEG_sleep_score</th>\n",
       "      <th>FFA</th>\n",
       "      <th>HVC</th>\n",
       "      <th>LOC</th>\n",
       "      <th>LVC</th>\n",
       "      <th>PPA</th>\n",
       "      <th>Synset_building_ID_02913152</th>\n",
       "      <th>Synset_chair_ID_03001627</th>\n",
       "      <th>Synset_character_ID_06818970</th>\n",
       "      <th>Synset_clothing_ID_03051540</th>\n",
       "      <th>...</th>\n",
       "      <th>V2</th>\n",
       "      <th>V3</th>\n",
       "      <th>X</th>\n",
       "      <th>Y</th>\n",
       "      <th>Z</th>\n",
       "      <th>design</th>\n",
       "      <th>label</th>\n",
       "      <th>sample_number</th>\n",
       "      <th>session_number</th>\n",
       "      <th>voxelData</th>\n",
       "    </tr>\n",
       "  </thead>\n",
       "  <tbody>\n",
       "    <tr>\n",
       "      <th>0</th>\n",
       "      <td>0.0</td>\n",
       "      <td>0.0</td>\n",
       "      <td>1.0</td>\n",
       "      <td>0.0</td>\n",
       "      <td>0.0</td>\n",
       "      <td>0.0</td>\n",
       "      <td>0.0</td>\n",
       "      <td>0.0</td>\n",
       "      <td>0.0</td>\n",
       "      <td>0.0</td>\n",
       "      <td>...</td>\n",
       "      <td>0.0</td>\n",
       "      <td>0.0</td>\n",
       "      <td>-67.5</td>\n",
       "      <td>-46.5</td>\n",
       "      <td>-1.5</td>\n",
       "      <td>0.0</td>\n",
       "      <td>0.0</td>\n",
       "      <td>0.0</td>\n",
       "      <td>0.0</td>\n",
       "      <td>1.0</td>\n",
       "    </tr>\n",
       "    <tr>\n",
       "      <th>1</th>\n",
       "      <td>0.0</td>\n",
       "      <td>0.0</td>\n",
       "      <td>1.0</td>\n",
       "      <td>0.0</td>\n",
       "      <td>0.0</td>\n",
       "      <td>0.0</td>\n",
       "      <td>0.0</td>\n",
       "      <td>0.0</td>\n",
       "      <td>0.0</td>\n",
       "      <td>0.0</td>\n",
       "      <td>...</td>\n",
       "      <td>0.0</td>\n",
       "      <td>0.0</td>\n",
       "      <td>-67.5</td>\n",
       "      <td>-46.5</td>\n",
       "      <td>1.5</td>\n",
       "      <td>0.0</td>\n",
       "      <td>0.0</td>\n",
       "      <td>0.0</td>\n",
       "      <td>0.0</td>\n",
       "      <td>1.0</td>\n",
       "    </tr>\n",
       "    <tr>\n",
       "      <th>2</th>\n",
       "      <td>0.0</td>\n",
       "      <td>0.0</td>\n",
       "      <td>1.0</td>\n",
       "      <td>0.0</td>\n",
       "      <td>0.0</td>\n",
       "      <td>0.0</td>\n",
       "      <td>0.0</td>\n",
       "      <td>0.0</td>\n",
       "      <td>0.0</td>\n",
       "      <td>0.0</td>\n",
       "      <td>...</td>\n",
       "      <td>0.0</td>\n",
       "      <td>0.0</td>\n",
       "      <td>-67.5</td>\n",
       "      <td>-43.5</td>\n",
       "      <td>-4.5</td>\n",
       "      <td>0.0</td>\n",
       "      <td>0.0</td>\n",
       "      <td>0.0</td>\n",
       "      <td>0.0</td>\n",
       "      <td>1.0</td>\n",
       "    </tr>\n",
       "    <tr>\n",
       "      <th>3</th>\n",
       "      <td>0.0</td>\n",
       "      <td>0.0</td>\n",
       "      <td>1.0</td>\n",
       "      <td>0.0</td>\n",
       "      <td>0.0</td>\n",
       "      <td>0.0</td>\n",
       "      <td>0.0</td>\n",
       "      <td>0.0</td>\n",
       "      <td>0.0</td>\n",
       "      <td>0.0</td>\n",
       "      <td>...</td>\n",
       "      <td>0.0</td>\n",
       "      <td>0.0</td>\n",
       "      <td>-67.5</td>\n",
       "      <td>-43.5</td>\n",
       "      <td>-1.5</td>\n",
       "      <td>0.0</td>\n",
       "      <td>0.0</td>\n",
       "      <td>0.0</td>\n",
       "      <td>0.0</td>\n",
       "      <td>1.0</td>\n",
       "    </tr>\n",
       "    <tr>\n",
       "      <th>4</th>\n",
       "      <td>0.0</td>\n",
       "      <td>0.0</td>\n",
       "      <td>1.0</td>\n",
       "      <td>1.0</td>\n",
       "      <td>0.0</td>\n",
       "      <td>0.0</td>\n",
       "      <td>0.0</td>\n",
       "      <td>0.0</td>\n",
       "      <td>0.0</td>\n",
       "      <td>0.0</td>\n",
       "      <td>...</td>\n",
       "      <td>0.0</td>\n",
       "      <td>0.0</td>\n",
       "      <td>-64.5</td>\n",
       "      <td>-52.5</td>\n",
       "      <td>-4.5</td>\n",
       "      <td>0.0</td>\n",
       "      <td>0.0</td>\n",
       "      <td>0.0</td>\n",
       "      <td>0.0</td>\n",
       "      <td>1.0</td>\n",
       "    </tr>\n",
       "  </tbody>\n",
       "</table>\n",
       "<p>5 rows × 43 columns</p>\n",
       "</div>"
      ],
      "text/plain": [
       "   EEG_sleep_score  FFA  HVC  LOC  LVC  PPA  Synset_building_ID_02913152  \\\n",
       "0              0.0  0.0  1.0  0.0  0.0  0.0                          0.0   \n",
       "1              0.0  0.0  1.0  0.0  0.0  0.0                          0.0   \n",
       "2              0.0  0.0  1.0  0.0  0.0  0.0                          0.0   \n",
       "3              0.0  0.0  1.0  0.0  0.0  0.0                          0.0   \n",
       "4              0.0  0.0  1.0  1.0  0.0  0.0                          0.0   \n",
       "\n",
       "   Synset_chair_ID_03001627  Synset_character_ID_06818970  \\\n",
       "0                       0.0                           0.0   \n",
       "1                       0.0                           0.0   \n",
       "2                       0.0                           0.0   \n",
       "3                       0.0                           0.0   \n",
       "4                       0.0                           0.0   \n",
       "\n",
       "   Synset_clothing_ID_03051540  ...   V2   V3     X     Y    Z  design  label  \\\n",
       "0                          0.0  ...  0.0  0.0 -67.5 -46.5 -1.5     0.0    0.0   \n",
       "1                          0.0  ...  0.0  0.0 -67.5 -46.5  1.5     0.0    0.0   \n",
       "2                          0.0  ...  0.0  0.0 -67.5 -43.5 -4.5     0.0    0.0   \n",
       "3                          0.0  ...  0.0  0.0 -67.5 -43.5 -1.5     0.0    0.0   \n",
       "4                          0.0  ...  0.0  0.0 -64.5 -52.5 -4.5     0.0    0.0   \n",
       "\n",
       "   sample_number  session_number  voxelData  \n",
       "0            0.0             0.0        1.0  \n",
       "1            0.0             0.0        1.0  \n",
       "2            0.0             0.0        1.0  \n",
       "3            0.0             0.0        1.0  \n",
       "4            0.0             0.0        1.0  \n",
       "\n",
       "[5 rows x 43 columns]"
      ]
     },
     "execution_count": 92,
     "metadata": {},
     "output_type": "execute_result"
    }
   ],
   "source": [
    "dfile = h5py.File(sleep, \"r\") #data file\n",
    "\n",
    "data = dfile[\"data\"]\n",
    "mdata = dfile[\"metaData\"]\n",
    "\n",
    "#convert from h5 to a dictionary of np arrays, which pandas understands\n",
    "mdata_dict_arr = {key: np.squeeze(np.array(val)) for key, val in mdata.items()}\n",
    "\n",
    "meta_df = pd.DataFrame.from_dict(mdata_dict_arr)\n",
    "data_df = np.array(data)\n",
    "\n",
    "print(meta_df.shape)\n",
    "meta_df.head()"
   ]
  },
  {
   "cell_type": "code",
   "execution_count": 93,
   "id": "9268e589",
   "metadata": {},
   "outputs": [
    {
     "name": "stdout",
     "output_type": "stream",
     "text": [
      "(235, 4039)\n"
     ]
    }
   ],
   "source": [
    "print(data_df.shape)"
   ]
  },
  {
   "cell_type": "code",
   "execution_count": 94,
   "id": "522ec0b1",
   "metadata": {},
   "outputs": [
    {
     "data": {
      "text/plain": [
       "array([[-1.23439404e+00, -4.87027437e-01,  1.19918902e+00, ...,\n",
       "         1.00000000e+00,  1.00000000e+00,  1.00000000e+00],\n",
       "       [ 1.63373625e+00,  5.24539088e+00, -1.69498203e+00, ...,\n",
       "         1.00000000e+00,  1.00000000e+00,  2.00000000e+00],\n",
       "       [ 4.01640746e-01,  3.25192376e+00, -1.38049469e+00, ...,\n",
       "         1.00000000e+00,  1.00000000e+00,  3.00000000e+00],\n",
       "       ...,\n",
       "       [-2.85550630e+00, -2.69055550e+00, -1.17711014e+00, ...,\n",
       "         1.00000000e+00,  2.60000000e+01,  2.33000000e+02],\n",
       "       [-1.89436357e-01, -1.59084747e+00,  2.13385080e+00, ...,\n",
       "         1.00000000e+00,  2.60000000e+01,  2.34000000e+02],\n",
       "       [-1.89219074e+00, -2.45376516e+00,  3.57550935e+00, ...,\n",
       "         1.00000000e+00,  2.60000000e+01,  2.35000000e+02]])"
      ]
     },
     "execution_count": 94,
     "metadata": {},
     "output_type": "execute_result"
    }
   ],
   "source": [
    "data_df"
   ]
  },
  {
   "cell_type": "code",
   "execution_count": 95,
   "id": "8fe36c0d",
   "metadata": {},
   "outputs": [],
   "source": [
    "import utils\n",
    "\n",
    "masks, data =  utils.load_data(1)"
   ]
  },
  {
   "cell_type": "code",
   "execution_count": 96,
   "id": "a18d5626",
   "metadata": {},
   "outputs": [
    {
     "data": {
      "text/html": [
       "<div>\n",
       "<style scoped>\n",
       "    .dataframe tbody tr th:only-of-type {\n",
       "        vertical-align: middle;\n",
       "    }\n",
       "\n",
       "    .dataframe tbody tr th {\n",
       "        vertical-align: top;\n",
       "    }\n",
       "\n",
       "    .dataframe thead th {\n",
       "        text-align: right;\n",
       "    }\n",
       "</style>\n",
       "<table border=\"1\" class=\"dataframe\">\n",
       "  <thead>\n",
       "    <tr style=\"text-align: right;\">\n",
       "      <th></th>\n",
       "      <th>EEG_sleep_score</th>\n",
       "      <th>FFA</th>\n",
       "      <th>HVC</th>\n",
       "      <th>LOC</th>\n",
       "      <th>LVC</th>\n",
       "      <th>PPA</th>\n",
       "      <th>Synset_building_ID_02913152</th>\n",
       "      <th>Synset_chair_ID_03001627</th>\n",
       "      <th>Synset_character_ID_06818970</th>\n",
       "      <th>Synset_clothing_ID_03051540</th>\n",
       "      <th>...</th>\n",
       "      <th>V2</th>\n",
       "      <th>V3</th>\n",
       "      <th>X</th>\n",
       "      <th>Y</th>\n",
       "      <th>Z</th>\n",
       "      <th>design</th>\n",
       "      <th>label</th>\n",
       "      <th>sample_number</th>\n",
       "      <th>session_number</th>\n",
       "      <th>voxelData</th>\n",
       "    </tr>\n",
       "  </thead>\n",
       "  <tbody>\n",
       "    <tr>\n",
       "      <th>0</th>\n",
       "      <td>0.0</td>\n",
       "      <td>0.0</td>\n",
       "      <td>1.0</td>\n",
       "      <td>0.0</td>\n",
       "      <td>0.0</td>\n",
       "      <td>0.0</td>\n",
       "      <td>0.0</td>\n",
       "      <td>0.0</td>\n",
       "      <td>0.0</td>\n",
       "      <td>0.0</td>\n",
       "      <td>...</td>\n",
       "      <td>0.0</td>\n",
       "      <td>0.0</td>\n",
       "      <td>-67.5</td>\n",
       "      <td>-46.5</td>\n",
       "      <td>-1.5</td>\n",
       "      <td>0.0</td>\n",
       "      <td>0.0</td>\n",
       "      <td>0.0</td>\n",
       "      <td>0.0</td>\n",
       "      <td>1.0</td>\n",
       "    </tr>\n",
       "    <tr>\n",
       "      <th>1</th>\n",
       "      <td>0.0</td>\n",
       "      <td>0.0</td>\n",
       "      <td>1.0</td>\n",
       "      <td>0.0</td>\n",
       "      <td>0.0</td>\n",
       "      <td>0.0</td>\n",
       "      <td>0.0</td>\n",
       "      <td>0.0</td>\n",
       "      <td>0.0</td>\n",
       "      <td>0.0</td>\n",
       "      <td>...</td>\n",
       "      <td>0.0</td>\n",
       "      <td>0.0</td>\n",
       "      <td>-67.5</td>\n",
       "      <td>-46.5</td>\n",
       "      <td>1.5</td>\n",
       "      <td>0.0</td>\n",
       "      <td>0.0</td>\n",
       "      <td>0.0</td>\n",
       "      <td>0.0</td>\n",
       "      <td>1.0</td>\n",
       "    </tr>\n",
       "    <tr>\n",
       "      <th>2</th>\n",
       "      <td>0.0</td>\n",
       "      <td>0.0</td>\n",
       "      <td>1.0</td>\n",
       "      <td>0.0</td>\n",
       "      <td>0.0</td>\n",
       "      <td>0.0</td>\n",
       "      <td>0.0</td>\n",
       "      <td>0.0</td>\n",
       "      <td>0.0</td>\n",
       "      <td>0.0</td>\n",
       "      <td>...</td>\n",
       "      <td>0.0</td>\n",
       "      <td>0.0</td>\n",
       "      <td>-67.5</td>\n",
       "      <td>-43.5</td>\n",
       "      <td>-4.5</td>\n",
       "      <td>0.0</td>\n",
       "      <td>0.0</td>\n",
       "      <td>0.0</td>\n",
       "      <td>0.0</td>\n",
       "      <td>1.0</td>\n",
       "    </tr>\n",
       "    <tr>\n",
       "      <th>3</th>\n",
       "      <td>0.0</td>\n",
       "      <td>0.0</td>\n",
       "      <td>1.0</td>\n",
       "      <td>0.0</td>\n",
       "      <td>0.0</td>\n",
       "      <td>0.0</td>\n",
       "      <td>0.0</td>\n",
       "      <td>0.0</td>\n",
       "      <td>0.0</td>\n",
       "      <td>0.0</td>\n",
       "      <td>...</td>\n",
       "      <td>0.0</td>\n",
       "      <td>0.0</td>\n",
       "      <td>-67.5</td>\n",
       "      <td>-43.5</td>\n",
       "      <td>-1.5</td>\n",
       "      <td>0.0</td>\n",
       "      <td>0.0</td>\n",
       "      <td>0.0</td>\n",
       "      <td>0.0</td>\n",
       "      <td>1.0</td>\n",
       "    </tr>\n",
       "    <tr>\n",
       "      <th>4</th>\n",
       "      <td>0.0</td>\n",
       "      <td>0.0</td>\n",
       "      <td>1.0</td>\n",
       "      <td>1.0</td>\n",
       "      <td>0.0</td>\n",
       "      <td>0.0</td>\n",
       "      <td>0.0</td>\n",
       "      <td>0.0</td>\n",
       "      <td>0.0</td>\n",
       "      <td>0.0</td>\n",
       "      <td>...</td>\n",
       "      <td>0.0</td>\n",
       "      <td>0.0</td>\n",
       "      <td>-64.5</td>\n",
       "      <td>-52.5</td>\n",
       "      <td>-4.5</td>\n",
       "      <td>0.0</td>\n",
       "      <td>0.0</td>\n",
       "      <td>0.0</td>\n",
       "      <td>0.0</td>\n",
       "      <td>1.0</td>\n",
       "    </tr>\n",
       "  </tbody>\n",
       "</table>\n",
       "<p>5 rows × 43 columns</p>\n",
       "</div>"
      ],
      "text/plain": [
       "   EEG_sleep_score  FFA  HVC  LOC  LVC  PPA  Synset_building_ID_02913152  \\\n",
       "0              0.0  0.0  1.0  0.0  0.0  0.0                          0.0   \n",
       "1              0.0  0.0  1.0  0.0  0.0  0.0                          0.0   \n",
       "2              0.0  0.0  1.0  0.0  0.0  0.0                          0.0   \n",
       "3              0.0  0.0  1.0  0.0  0.0  0.0                          0.0   \n",
       "4              0.0  0.0  1.0  1.0  0.0  0.0                          0.0   \n",
       "\n",
       "   Synset_chair_ID_03001627  Synset_character_ID_06818970  \\\n",
       "0                       0.0                           0.0   \n",
       "1                       0.0                           0.0   \n",
       "2                       0.0                           0.0   \n",
       "3                       0.0                           0.0   \n",
       "4                       0.0                           0.0   \n",
       "\n",
       "   Synset_clothing_ID_03051540  ...   V2   V3     X     Y    Z  design  label  \\\n",
       "0                          0.0  ...  0.0  0.0 -67.5 -46.5 -1.5     0.0    0.0   \n",
       "1                          0.0  ...  0.0  0.0 -67.5 -46.5  1.5     0.0    0.0   \n",
       "2                          0.0  ...  0.0  0.0 -67.5 -43.5 -4.5     0.0    0.0   \n",
       "3                          0.0  ...  0.0  0.0 -67.5 -43.5 -1.5     0.0    0.0   \n",
       "4                          0.0  ...  0.0  0.0 -64.5 -52.5 -4.5     0.0    0.0   \n",
       "\n",
       "   sample_number  session_number  voxelData  \n",
       "0            0.0             0.0        1.0  \n",
       "1            0.0             0.0        1.0  \n",
       "2            0.0             0.0        1.0  \n",
       "3            0.0             0.0        1.0  \n",
       "4            0.0             0.0        1.0  \n",
       "\n",
       "[5 rows x 43 columns]"
      ]
     },
     "execution_count": 96,
     "metadata": {},
     "output_type": "execute_result"
    }
   ],
   "source": [
    "masks.head()"
   ]
  },
  {
   "cell_type": "code",
   "execution_count": 97,
   "id": "ee5011d7",
   "metadata": {},
   "outputs": [
    {
     "data": {
      "text/plain": [
       "array([[-1.23439404e+00, -4.87027437e-01,  1.19918902e+00, ...,\n",
       "         1.00000000e+00,  1.00000000e+00,  1.00000000e+00],\n",
       "       [ 1.63373625e+00,  5.24539088e+00, -1.69498203e+00, ...,\n",
       "         1.00000000e+00,  1.00000000e+00,  2.00000000e+00],\n",
       "       [ 4.01640746e-01,  3.25192376e+00, -1.38049469e+00, ...,\n",
       "         1.00000000e+00,  1.00000000e+00,  3.00000000e+00],\n",
       "       ...,\n",
       "       [-2.85550630e+00, -2.69055550e+00, -1.17711014e+00, ...,\n",
       "         1.00000000e+00,  2.60000000e+01,  2.33000000e+02],\n",
       "       [-1.89436357e-01, -1.59084747e+00,  2.13385080e+00, ...,\n",
       "         1.00000000e+00,  2.60000000e+01,  2.34000000e+02],\n",
       "       [-1.89219074e+00, -2.45376516e+00,  3.57550935e+00, ...,\n",
       "         1.00000000e+00,  2.60000000e+01,  2.35000000e+02]])"
      ]
     },
     "execution_count": 97,
     "metadata": {},
     "output_type": "execute_result"
    }
   ],
   "source": [
    "data"
   ]
  },
  {
   "cell_type": "code",
   "execution_count": 98,
   "id": "a9490b0d",
   "metadata": {},
   "outputs": [
    {
     "name": "stdout",
     "output_type": "stream",
     "text": [
      "data shape: (235, 4039)\n"
     ]
    }
   ],
   "source": [
    "print(f\"data shape: {data.shape}\")"
   ]
  },
  {
   "cell_type": "code",
   "execution_count": 99,
   "id": "12faefc8",
   "metadata": {},
   "outputs": [],
   "source": [
    "import numpy as np\n",
    "import matplotlib.pyplot as plt\n",
    "from sklearn.model_selection import GridSearchCV\n",
    "from sklearn.metrics import classification_report\n",
    "from sklearn.metrics import confusion_matrix\n",
    "from sklearn.svm import SVC\n",
    "import time\n",
    "\n",
    "from sklearn.model_selection import train_test_split\n",
    "from utils import load_data"
   ]
  },
  {
   "cell_type": "code",
   "execution_count": 100,
   "id": "0335db10",
   "metadata": {},
   "outputs": [
    {
     "name": "stdout",
     "output_type": "stream",
     "text": [
      "(4039, 43) (235, 4039)\n"
     ]
    }
   ],
   "source": [
    "print(masks.shape, data.shape)"
   ]
  },
  {
   "cell_type": "markdown",
   "id": "0cfb0897",
   "metadata": {},
   "source": [
    "# Below is the code for creating the SVM. \n",
    "\n",
    "Below is the code for running the SVM Model. The sklearn library was used for a lot to allow us to print the results of our model. The library sklearn.metrics was used to print the recall, precision, F1-score, and confusion matries for the SVM model. The library sklearn.svm allowed us to acually make our SVM using the SVC portion of the library."
   ]
  },
  {
   "cell_type": "markdown",
   "id": "65aa6784",
   "metadata": {},
   "source": [
    "#### Importing the DataHandler function to bring the data into the notebook under a variable name."
   ]
  },
  {
   "cell_type": "code",
   "execution_count": 101,
   "id": "121ccdc4",
   "metadata": {},
   "outputs": [],
   "source": [
    "from utils import load_data, DataHandler\n",
    "from plotting import plot_confusion_matrix, classification_report"
   ]
  },
  {
   "cell_type": "code",
   "execution_count": 102,
   "id": "e8cfc388",
   "metadata": {},
   "outputs": [],
   "source": [
    "datahandler = DataHandler(masks, data, test_size=0.2)\n",
    "\n",
    "# initialize the training and testing feature vectors\n",
    "trainx = datahandler.get_feature([\"FFA\", \"HVC\", \"LOC\", \"LVC\", \"PPA\", \"V1\", \"V2\", \"V3\"], \"train\")\n",
    "testx = datahandler.get_feature([\"FFA\", \"HVC\", \"LOC\", \"LVC\", \"PPA\", \"V1\", \"V2\", \"V3\"], \"test\")\n"
   ]
  },
  {
   "cell_type": "markdown",
   "id": "96bdb525",
   "metadata": {},
   "source": [
    "#### Below is the code for creating and training the SVM model\n",
    "The SVM model takes into account all of the features and all of the classes (26 words here because we chose to train with Subject 1). Because we are training with all of the variables the SVM Model takes a long time to run. Prior to this code using MultiOutputClassifier, the SVM was run individually with muliple classes, and an accuracy score was found to be 0.94 or 94% accurate. However, this code was ommitted in the final notebook because it was unnecessarily lengthy, and it does the same thing as the code below."
   ]
  },
  {
   "cell_type": "code",
   "execution_count": 111,
   "id": "b405caed",
   "metadata": {},
   "outputs": [
    {
     "name": "stdout",
     "output_type": "stream",
     "text": [
      "Runtime 706.0300271511078\n",
      "{'estimator__C': 1000.0, 'estimator__gamma': 0.0005, 'estimator__kernel': 'rbf'}\n"
     ]
    }
   ],
   "source": [
    "# Importing the MultiOutputClassifier which allows our data to be condensed better\n",
    "from sklearn.multioutput import MultiOutputClassifier\n",
    "\n",
    "# Initializing the train vectors containing the classes\n",
    "start = time.time()\n",
    "trainy = datahandler.get_labels()\n",
    "\n",
    "# Initializaing temporary vectors that can be changed easily if needed\n",
    "tmp_vectors = trainx\n",
    "tmp_labels = trainy\n",
    "\n",
    "# This allows us to use the the best parameters possible\n",
    "param_grid = {'estimator__C': [1e3, 5e3, 1e4, 5e4, 1e5],\n",
    "              'estimator__gamma': [0.0001, 0.0005, 0.001, 0.005, 0.01, 0.1],\n",
    "              'estimator__kernel': ['linear','rbf']}\n",
    "\n",
    "# Creating the SVM using the best possible classifiers and parameters\n",
    "clf = MultiOutputClassifier(SVC(class_weight='balanced'))\n",
    "\n",
    "clf = GridSearchCV(clf, param_grid)\n",
    "\n",
    "clf = clf.fit(tmp_vectors, tmp_labels)\n",
    "\n",
    "end = time.time()\n",
    "print(\"Runtime\",end - start)\n",
    "print(clf.best_params_)\n"
   ]
  },
  {
   "cell_type": "markdown",
   "id": "eebb4e17",
   "metadata": {},
   "source": [
    "### Below is the code for testing our SVM.\n",
    "The testing was done using the testing split of our dataset and then by printing the classification labels (recall, precision, and F1 score) and plotting confusion matrices that show the accuracy or result for each class."
   ]
  },
  {
   "cell_type": "code",
   "execution_count": 117,
   "id": "2cbb3b58",
   "metadata": {
    "scrolled": true
   },
   "outputs": [
    {
     "name": "stderr",
     "output_type": "stream",
     "text": [
      "/Users/samtadian/opt/anaconda3/lib/python3.9/site-packages/sklearn/metrics/_classification.py:1327: UndefinedMetricWarning: Precision and F-score are ill-defined and being set to 0.0 in labels with no predicted samples. Use `zero_division` parameter to control this behavior.\n",
      "  _warn_prf(average, modifier, msg_start, len(result))\n",
      "/Users/samtadian/opt/anaconda3/lib/python3.9/site-packages/sklearn/metrics/_classification.py:1327: UndefinedMetricWarning: Recall and F-score are ill-defined and being set to 0.0 in labels with no true samples. Use `zero_division` parameter to control this behavior.\n",
      "  _warn_prf(average, modifier, msg_start, len(result))\n",
      "/Users/samtadian/opt/anaconda3/lib/python3.9/site-packages/sklearn/metrics/_classification.py:1327: UndefinedMetricWarning: Recall and F-score are ill-defined and being set to 0.0 in samples with no true labels. Use `zero_division` parameter to control this behavior.\n",
      "  _warn_prf(average, modifier, msg_start, len(result))\n"
     ]
    },
    {
     "name": "stdout",
     "output_type": "stream",
     "text": [
      "                    precision    recall  f1-score   support\n",
      "\n",
      "          building       0.00      0.00      0.00         3\n",
      "             chair       0.00      0.00      0.00         5\n",
      "         character       0.00      0.00      0.00         7\n",
      "          clothing       0.00      0.00      0.00         2\n",
      "              code       0.00      0.00      0.00         3\n",
      "         cognition       0.00      0.00      0.00         1\n",
      "external_body_part       0.00      0.00      0.00         5\n",
      " geographical_area       0.00      0.00      0.00         1\n",
      "              girl       0.00      0.00      0.00         2\n",
      "             group       0.00      0.00      0.00         2\n",
      "      illustration       0.00      0.00      0.00         0\n",
      "         implement       0.00      0.00      0.00         0\n",
      "              line       0.00      0.00      0.00         0\n",
      "              male       0.57      1.00      0.73        27\n",
      "          material       0.00      0.00      0.00         3\n",
      "    natural_object       0.00      0.00      0.00         2\n",
      "         performer       0.00      0.00      0.00         5\n",
      "           picture       0.00      0.00      0.00         2\n",
      "              room       0.00      0.00      0.00         2\n",
      "             shape       0.00      0.00      0.00         0\n",
      "             table       0.00      0.00      0.00         1\n",
      "        vertebrate       0.00      0.00      0.00         3\n",
      "               way       0.00      0.00      0.00         3\n",
      "            window       0.00      0.00      0.00         1\n",
      "         workplace       0.00      0.00      0.00         3\n",
      "           writing       0.00      0.00      0.00         2\n",
      "\n",
      "         micro avg       0.57      0.32      0.41        85\n",
      "         macro avg       0.02      0.04      0.03        85\n",
      "      weighted avg       0.18      0.32      0.23        85\n",
      "       samples avg       0.57      0.35      0.41        85\n",
      "\n"
     ]
    },
    {
     "data": {
      "image/png": "[encoded data removed]",
      "text/plain": [
       "<Figure size 864x720 with 30 Axes>"
      ]
     },
     "metadata": {
      "needs_background": "light"
     },
     "output_type": "display_data"
    }
   ],
   "source": [
    "\n",
    "testy = datahandler.get_labels(split_set ='test')\n",
    "predict_vectors = testx\n",
    "words = datahandler.get_label_names()\n",
    "\n",
    "pred_labels = clf.predict(predict_vectors)\n",
    "    \n",
    "print(classification_report(testy, pred_labels, target_names = words))\n",
    "    \n",
    "fig = plot_confusion_matrix(testy, pred_labels, words)\n",
    "fig.savefig(\"SVM_model.png\")"
   ]
  },
  {
   "cell_type": "code",
   "execution_count": null,
   "id": "f21214d4",
   "metadata": {},
   "outputs": [],
   "source": []
  }
 ],
 "metadata": {
  "kernelspec": {
   "display_name": "Python 3 (ipykernel)",
   "language": "python",
   "name": "python3"
  },
  "language_info": {
   "codemirror_mode": {
    "name": "ipython",
    "version": 3
   },
   "file_extension": ".py",
   "mimetype": "text/x-python",
   "name": "python",
   "nbconvert_exporter": "python",
   "pygments_lexer": "ipython3",
   "version": "3.9.12"
  }
 },
 "nbformat": 4,
 "nbformat_minor": 5
}
