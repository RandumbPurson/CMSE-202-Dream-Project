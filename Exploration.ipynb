{
 "cells": [
  {
   "cell_type": "markdown",
   "id": "fd61fdcc",
   "metadata": {},
   "source": [
    "# Initial Data Exploration\n",
    "This is going to be a little difficult for a couple of reasons\n",
    "\n",
    "1. The data is poorly described, there is not accompanying readme or documentation on what each of the fields means. We are going to have to rely on the [original paper](https://www.researchgate.net/profile/Masako-Tamaki/publication/236113471_Neural_Decoding_of_Visual_Imagery_During_Sleep/links/02e7e53a5e1eba1005000000/Neural-Decoding-of-Visual-Imagery-During-Sleep.pdf) and its [supplemental materials](https://www.science.org/doi/suppl/10.1126/science.1234330/suppl_file/horikawa.sm.pdf) to figure out how to use it\n",
    "2. The data is in an h5 format, which is something we haven't worked with before\n",
    "3. The data is spread across several files, so we will have to aggregate it ourselves"
   ]
  },
  {
   "cell_type": "code",
   "execution_count": 9,
   "id": "6f1f8745",
   "metadata": {},
   "outputs": [
    {
     "name": "stdout",
     "output_type": "stream",
     "text": [
      "PreprocessedPerceptionDataSubject1.h5  PreprocessedSleepDataSubject3.h5\r\n",
      "PreprocessedPerceptionDataSubject2.h5  propsSubject1.h5\r\n",
      "PreprocessedPerceptionDataSubject3.h5  propsSubject2.h5\r\n",
      "PreprocessedSleepDataSubject1.h5       propsSubject3.h5\r\n",
      "PreprocessedSleepDataSubject2.h5\r\n"
     ]
    }
   ],
   "source": [
    "!ls preproc"
   ]
  },
  {
   "cell_type": "markdown",
   "id": "a8c6a38c",
   "metadata": {},
   "source": [
    "The files appear to be in \"h5\" format, which we can read using the h5py library ([documentation](https://docs.h5py.org/en/stable/))\n",
    "\n",
    "It seems like there's 3 different classes of files, Perception data, Sleep data, and \"props\"?\n",
    "\n",
    "The paper attempts to reconstruct visual data rather than just classify, so it uses a decoder trained from perception data while viewing particular images, most likely the \"Perception\" data, so we can probably ignore this. \n",
    "\n",
    "The sleep data probably has what we are looking for.\n",
    "\n",
    "I'm not really sure what props is."
   ]
  },
  {
   "cell_type": "code",
   "execution_count": 1,
   "id": "29db66aa",
   "metadata": {},
   "outputs": [],
   "source": [
    "import h5py\n",
    "import os"
   ]
  },
  {
   "cell_type": "code",
   "execution_count": 2,
   "id": "48aea9ec",
   "metadata": {},
   "outputs": [],
   "source": [
    "root = \"preproc\"\n",
    "perc = os.path.join(root, \"PreprocessedPerceptionDataSubject1.h5\")\n",
    "sleep = os.path.join(root, \"PreprocessedSleepDataSubject1.h5\")\n",
    "props = os.path.join(root, \"propsSubject1.h5\")"
   ]
  },
  {
   "cell_type": "markdown",
   "id": "012e5670",
   "metadata": {},
   "source": [
    "Start with sleep data"
   ]
  },
  {
   "cell_type": "code",
   "execution_count": 3,
   "id": "6fc3ac4b",
   "metadata": {},
   "outputs": [
    {
     "data": {
      "text/plain": [
       "<KeysViewHDF5 ['data', 'metaData', 'metaDefinition']>"
      ]
     },
     "execution_count": 3,
     "metadata": {},
     "output_type": "execute_result"
    }
   ],
   "source": [
    "dfile = h5py.File(sleep, \"r\")\n",
    "dfile.keys()"
   ]
  },
  {
   "cell_type": "markdown",
   "id": "28ce874a",
   "metadata": {},
   "source": [
    "Looks like theres 3 keys in the dataset, data, metadata, and metadefinition"
   ]
  },
  {
   "cell_type": "code",
   "execution_count": 4,
   "id": "17d1dcd8",
   "metadata": {},
   "outputs": [
    {
     "name": "stdout",
     "output_type": "stream",
     "text": [
      "data (235, 4039) float64 [-1.23439404 -0.48702744  1.19918902 ...  1.          1.\n",
      "  1.        ]\n",
      "\n",
      "metaData <HDF5 group \"/metaData\" (43 members)> <class 'str'>\n",
      "\n",
      "metaDefinition (43,) |S33 b'0 = not voxelData, 1 = voxelData'\n",
      "\n"
     ]
    }
   ],
   "source": [
    "for key in dfile.keys():\n",
    "    dset = dfile[key]\n",
    "    try:\n",
    "        print(key, dset.shape, dset.dtype, dset[0], end=\"\\n\\n\")\n",
    "    except:\n",
    "        print(key, dset, type(key), end=\"\\n\\n\")"
   ]
  },
  {
   "cell_type": "code",
   "execution_count": 6,
   "id": "af3c3957",
   "metadata": {},
   "outputs": [
    {
     "data": {
      "text/plain": [
       "(198, 3981)"
      ]
     },
     "execution_count": 6,
     "metadata": {},
     "output_type": "execute_result"
    }
   ],
   "source": [
    "tfile = h5py.File(os.path.join(root, \"PreprocessedSleepDataSubject2.h5\"), \"r\")\n",
    "tfile[\"data\"].shape"
   ]
  },
  {
   "cell_type": "markdown",
   "id": "f8b5d4e1",
   "metadata": {},
   "source": [
    "Looks like data is just a 2D array of data with where the first dimension is the number of \"awakenings\", which is confirmed by the paper...\n",
    "> (235, 198, and\n",
    "186 awakenings for participants 1 to 3, respec-\n",
    "tively, used for decoding analyses) \n",
    "\n",
    "metaData is a group and metaDefinition contains some kind of string data, the \"meta\" datasets seem to be related since they have the same number of elements"
   ]
  },
  {
   "cell_type": "code",
   "execution_count": 7,
   "id": "6cce17f4",
   "metadata": {},
   "outputs": [
    {
     "name": "stdout",
     "output_type": "stream",
     "text": [
      "0 EEG_sleep_score (1, 4039)  --  b'0 = not voxelData, 1 = voxelData'\n",
      "1 FFA (1, 4039)  --  b'Value = X coordinate'\n",
      "2 HVC (1, 4039)  --  b'Value = Y coordinate'\n",
      "3 LOC (1, 4039)  --  b'Value = Z coordinate'\n",
      "4 LVC (1, 4039)  --  b'0 = not FFA voxel, 1 = FFA voxel'\n",
      "5 PPA (1, 4039)  --  b'0 = not HVC voxel, 1 = HVC voxel'\n",
      "6 Synset_building_ID_02913152 (1, 4039)  --  b'0 = not LOC voxel, 1 = LOC voxel'\n",
      "7 Synset_chair_ID_03001627 (1, 4039)  --  b'0 = not LVC voxel, 1 = LVC voxel'\n",
      "8 Synset_character_ID_06818970 (1, 4039)  --  b'0 = not PPA voxel, 1 = PPA voxel'\n",
      "9 Synset_clothing_ID_03051540 (1, 4039)  --  b'0 = not V1 voxel, 1 = V1 voxel'\n",
      "10 Synset_code_ID_06355894 (1, 4039)  --  b'0 = not V2 voxel, 1 = V2 voxel'\n",
      "11 Synset_cognition_ID_00023271 (1, 4039)  --  b'0 = not V3 voxel, 1 = V3 voxel'\n",
      "12 Synset_external_body_part_ID_05225090 (1, 4039)  --  b'0 = not label, 1 = label'\n",
      "13 Synset_geographical_area_ID_08574314 (1, 4039)  --  b'0 = absent, 1 = present'\n",
      "14 Synset_girl_ID_10129825 (1, 4039)  --  b'0 = absent, 1 = present'\n",
      "15 Synset_group_ID_00031264 (1, 4039)  --  b'0 = absent, 1 = present'\n",
      "16 Synset_illustration_ID_06999233 (1, 4039)  --  b'0 = absent, 1 = present'\n",
      "17 Synset_implement_ID_03563967 (1, 4039)  --  b'0 = absent, 1 = present'\n",
      "18 Synset_line_ID_06799897 (1, 4039)  --  b'0 = absent, 1 = present'\n",
      "19 Synset_male_ID_09624168 (1, 4039)  --  b'0 = absent, 1 = present'\n",
      "20 Synset_material_ID_14580897 (1, 4039)  --  b'0 = absent, 1 = present'\n",
      "21 Synset_natural_object_ID_00019128 (1, 4039)  --  b'0 = absent, 1 = present'\n",
      "22 Synset_performer_ID_10415638 (1, 4039)  --  b'0 = absent, 1 = present'\n",
      "23 Synset_picture_ID_03931044 (1, 4039)  --  b'0 = absent, 1 = present'\n",
      "24 Synset_room_ID_04105893 (1, 4039)  --  b'0 = absent, 1 = present'\n",
      "25 Synset_shape_ID_00027807 (1, 4039)  --  b'0 = absent, 1 = present'\n",
      "26 Synset_table_ID_04379243 (1, 4039)  --  b'0 = absent, 1 = present'\n",
      "27 Synset_vertebrate_ID_01471682 (1, 4039)  --  b'0 = absent, 1 = present'\n",
      "28 Synset_way_ID_04564698 (1, 4039)  --  b'0 = absent, 1 = present'\n",
      "29 Synset_window_ID_04588739 (1, 4039)  --  b'0 = absent, 1 = present'\n",
      "30 Synset_workplace_ID_04602044 (1, 4039)  --  b'0 = absent, 1 = present'\n",
      "31 Synset_writing_ID_06362953 (1, 4039)  --  b'0 = absent, 1 = present'\n",
      "32 V1 (1, 4039)  --  b'0 = absent, 1 = present'\n",
      "33 V2 (1, 4039)  --  b'0 = absent, 1 = present'\n",
      "34 V3 (1, 4039)  --  b'0 = absent, 1 = present'\n",
      "35 X (1, 4039)  --  b'0 = absent, 1 = present'\n",
      "36 Y (1, 4039)  --  b'0 = absent, 1 = present'\n",
      "37 Z (1, 4039)  --  b'0 = absent, 1 = present'\n",
      "38 design (1, 4039)  --  b'0 = absent, 1 = present'\n",
      "39 label (1, 4039)  --  b'0 = absent, 1 = present'\n",
      "40 sample_number (1, 4039)  --  b'0 = not design, 1 = design'\n",
      "41 session_number (1, 4039)  --  b'Number = Sesssion number'\n",
      "42 voxelData (1, 4039)  --  b'Number = Sample number'\n"
     ]
    }
   ],
   "source": [
    "data = dfile[\"data\"]\n",
    "mdata = dfile[\"metaData\"]\n",
    "mdef = dfile[\"metaDefinition\"]\n",
    "for i, key in enumerate(mdata):\n",
    "    print(i, key, mdata[key].shape, \" -- \",mdef[i])"
   ]
  },
  {
   "cell_type": "markdown",
   "id": "48ea5cf7",
   "metadata": {},
   "source": [
    "Seem to be feature-value pairs, mapped to the data using masks?\n",
    "\n",
    "Also, these seem to be out of order, most likely since dictionary indexing is unordered, but that shouldn't really be a problem since we have masks describing their regions\n",
    "\n",
    "From the paper we know...\n",
    "- LVC, HVC, V1, V2, V3, LOC, FF, and PPA are all visual areas. These will be our input\n",
    "- Synsets are the different \"classes\" of things they saw in their dreams, these will be what we are trying to predict.\n",
    "\n",
    "It looks like this is all we need, but I'm still going to take a look at \"props\" just to see what it is."
   ]
  },
  {
   "cell_type": "code",
   "execution_count": 8,
   "id": "9644cbf9",
   "metadata": {},
   "outputs": [
    {
     "data": {
      "text/plain": [
       "<KeysViewHDF5 ['roiMask', 'roiNames', 'synsetNames', 'synsetPairs', 'xyz']>"
      ]
     },
     "execution_count": 8,
     "metadata": {},
     "output_type": "execute_result"
    }
   ],
   "source": [
    "pfile = h5py.File(props, \"r\")\n",
    "pfile.keys()"
   ]
  },
  {
   "cell_type": "code",
   "execution_count": 9,
   "id": "787658bb",
   "metadata": {},
   "outputs": [
    {
     "name": "stdout",
     "output_type": "stream",
     "text": [
      "roiMask (8, 4010) float64 [0. 0. 0. ... 0. 0. 0.]\n",
      "\n",
      "roiNames (8,) |S4 b'FFA'\n",
      "\n",
      "synsetNames (26,) |S38 b'Synset_male_ID_09624168'\n",
      "\n",
      "synsetPairs (201, 2) |S38 [b'Synset_character_ID_06818970' b'Synset_male_ID_09624168']\n",
      "\n",
      "xyz (3, 4010) float64 [-67.5 -67.5 -67.5 ...  64.5  64.5  64.5]\n",
      "\n"
     ]
    }
   ],
   "source": [
    "for key in pfile.keys():\n",
    "    dset = pfile[key]\n",
    "    try:\n",
    "        print(key, dset.shape, dset.dtype, dset[0], end=\"\\n\\n\")\n",
    "    except:\n",
    "        print(key, dset, type(key), end=\"\\n\\n\")"
   ]
  },
  {
   "cell_type": "markdown",
   "id": "b7bd7cac",
   "metadata": {},
   "source": [
    "This seems to be the information on the boundaries between each of the features described in the \"sleep\" data. From the supplemental materials, the roi is \"region of interest\" which is the region of the brain."
   ]
  },
  {
   "cell_type": "code",
   "execution_count": 10,
   "id": "e79b90b2",
   "metadata": {},
   "outputs": [
    {
     "name": "stdout",
     "output_type": "stream",
     "text": [
      "537.0 b'FFA'\n",
      "[-67.5 -43.5  -4.5]\n",
      "b'FFA'  --  537.0  --  537.0\n",
      "b'HVC'  --  1956.0  --  1956.0\n",
      "b'LOC'  --  523.0  --  523.0\n",
      "b'LVC'  --  2054.0  --  2054.0\n",
      "b'PPA'  --  353.0  --  353.0\n",
      "b'V1'  --  885.0  --  885.0\n",
      "b'V2'  --  901.0  --  901.0\n",
      "b'V3'  --  728.0  --  728.0\n"
     ]
    }
   ],
   "source": [
    "rmask = pfile[\"roiMask\"]\n",
    "rnames = pfile[\"roiNames\"]\n",
    "xyz = pfile[\"xyz\"]\n",
    "\n",
    "print(rmask[0, :].sum(), rnames[0])\n",
    "print(xyz[:, 2])\n",
    "\n",
    "for region in range(len(rnames)):\n",
    "    numel = rmask[region].sum() # number of \"1\" elements in the roi masks\n",
    "    numel_d = sum(mdata[rnames[region]][0]) # number of \"1\" elements in corresponding mdata masks\n",
    "    print(rnames[region], \" -- \", numel, \" -- \", numel_d) # should both be the same"
   ]
  },
  {
   "cell_type": "markdown",
   "id": "40dcbf2d",
   "metadata": {},
   "source": [
    "From the supplemental materials...\n",
    "> For the analysis of individual subareas, the following numbers of voxels were identified\n",
    "for V1, V2, V3, LOC, FFA, and PPA, respectively: 885, 901, 728, 523, 537, and 353 voxels for Subject 1;\n",
    "\n",
    "This matches with the sum of our region of interest masks, meaning that these masks do in fact show the region of interest. The \"xyz\" feature appears to be the voxel (3d pixel) coordinates corresponding to each entry in our region of interest (which we don't really need)"
   ]
  },
  {
   "cell_type": "code",
   "execution_count": 11,
   "id": "042e0c8d",
   "metadata": {},
   "outputs": [
    {
     "name": "stdout",
     "output_type": "stream",
     "text": [
      "(235, 4039)\n",
      "(4010,)\n"
     ]
    }
   ],
   "source": [
    "print(data.shape)\n",
    "ffa_mask = rmask[0].astype(bool)\n",
    "print(ffa_mask.shape)"
   ]
  },
  {
   "cell_type": "markdown",
   "id": "ce997ffd",
   "metadata": {},
   "source": [
    "The mask seems to be shorter by 29 elements, which I would assume is the space for the meta elements?"
   ]
  },
  {
   "cell_type": "code",
   "execution_count": 12,
   "id": "1a168ae9",
   "metadata": {},
   "outputs": [
    {
     "data": {
      "text/plain": [
       "array([  1.97166996,   1.        ,   0.        ,   0.        ,\n",
       "         0.        ,   0.        ,   0.        ,   0.        ,\n",
       "         0.        ,   0.        ,   0.        ,   0.        ,\n",
       "         0.        ,   0.        ,   0.        ,   0.        ,\n",
       "         0.        ,   0.        ,   0.        ,   0.        ,\n",
       "         0.        ,   0.        ,   0.        ,   0.        ,\n",
       "         0.        ,   0.        ,   0.        ,   1.        ,\n",
       "        26.        , 235.        ])"
      ]
     },
     "execution_count": 12,
     "metadata": {},
     "output_type": "execute_result"
    }
   ],
   "source": [
    "data[-1, 4009:]"
   ]
  },
  {
   "cell_type": "markdown",
   "id": "febb4b41",
   "metadata": {},
   "source": [
    "Yep! The last two seem to be numbers rather than logical values which matches what we would expect if `mdef` is properly ordered. Now we just need to extract all of the info into a more user-friendly form, probably pandas."
   ]
  },
  {
   "cell_type": "markdown",
   "id": "5212b3b2",
   "metadata": {},
   "source": [
    "# Structure Data"
   ]
  },
  {
   "cell_type": "code",
   "execution_count": 13,
   "id": "821bea9c",
   "metadata": {},
   "outputs": [],
   "source": [
    "import numpy as np\n",
    "import pandas as pd"
   ]
  },
  {
   "cell_type": "markdown",
   "id": "2efefc64",
   "metadata": {},
   "source": [
    "Pandas `read_hf` function apparently has problems, and I can't get it to read properly so I'm just going to create the dataframes manually\n",
    "\n",
    "We can't really mask the data right now to extract features since we would end up with a ragged dataframe (different lengths for each column) which pandas doesn't like. Instead, I'll just make a dataframe of the masks and make the data into a numpy array."
   ]
  },
  {
   "cell_type": "code",
   "execution_count": 14,
   "id": "4425f921",
   "metadata": {},
   "outputs": [],
   "source": [
    "dfile = h5py.File(sleep, \"r\") #data file\n",
    "\n",
    "data = dfile[\"data\"]\n",
    "mdata = dfile[\"metaData\"]\n",
    "\n",
    "#convert from h5 to a dictionary of np arrays, which pandas understands\n",
    "mdata_dict_arr = {key: np.squeeze(np.array(val)) for key, val in mdata.items()}\n",
    "\n",
    "meta_df = pd.DataFrame.from_dict(mdata_dict_arr)\n",
    "data_df = np.array(data)"
   ]
  },
  {
   "cell_type": "code",
   "execution_count": 18,
   "id": "12fc7027",
   "metadata": {},
   "outputs": [
    {
     "name": "stdout",
     "output_type": "stream",
     "text": [
      "(4039, 43)\n"
     ]
    },
    {
     "data": {
      "text/html": [
       "<div>\n",
       "<style scoped>\n",
       "    .dataframe tbody tr th:only-of-type {\n",
       "        vertical-align: middle;\n",
       "    }\n",
       "\n",
       "    .dataframe tbody tr th {\n",
       "        vertical-align: top;\n",
       "    }\n",
       "\n",
       "    .dataframe thead th {\n",
       "        text-align: right;\n",
       "    }\n",
       "</style>\n",
       "<table border=\"1\" class=\"dataframe\">\n",
       "  <thead>\n",
       "    <tr style=\"text-align: right;\">\n",
       "      <th></th>\n",
       "      <th>EEG_sleep_score</th>\n",
       "      <th>FFA</th>\n",
       "      <th>HVC</th>\n",
       "      <th>LOC</th>\n",
       "      <th>LVC</th>\n",
       "      <th>PPA</th>\n",
       "      <th>Synset_building_ID_02913152</th>\n",
       "      <th>Synset_chair_ID_03001627</th>\n",
       "      <th>Synset_character_ID_06818970</th>\n",
       "      <th>Synset_clothing_ID_03051540</th>\n",
       "      <th>...</th>\n",
       "      <th>V2</th>\n",
       "      <th>V3</th>\n",
       "      <th>X</th>\n",
       "      <th>Y</th>\n",
       "      <th>Z</th>\n",
       "      <th>design</th>\n",
       "      <th>label</th>\n",
       "      <th>sample_number</th>\n",
       "      <th>session_number</th>\n",
       "      <th>voxelData</th>\n",
       "    </tr>\n",
       "  </thead>\n",
       "  <tbody>\n",
       "    <tr>\n",
       "      <th>0</th>\n",
       "      <td>0.0</td>\n",
       "      <td>0.0</td>\n",
       "      <td>1.0</td>\n",
       "      <td>0.0</td>\n",
       "      <td>0.0</td>\n",
       "      <td>0.0</td>\n",
       "      <td>0.0</td>\n",
       "      <td>0.0</td>\n",
       "      <td>0.0</td>\n",
       "      <td>0.0</td>\n",
       "      <td>...</td>\n",
       "      <td>0.0</td>\n",
       "      <td>0.0</td>\n",
       "      <td>-67.5</td>\n",
       "      <td>-46.5</td>\n",
       "      <td>-1.5</td>\n",
       "      <td>0.0</td>\n",
       "      <td>0.0</td>\n",
       "      <td>0.0</td>\n",
       "      <td>0.0</td>\n",
       "      <td>1.0</td>\n",
       "    </tr>\n",
       "    <tr>\n",
       "      <th>1</th>\n",
       "      <td>0.0</td>\n",
       "      <td>0.0</td>\n",
       "      <td>1.0</td>\n",
       "      <td>0.0</td>\n",
       "      <td>0.0</td>\n",
       "      <td>0.0</td>\n",
       "      <td>0.0</td>\n",
       "      <td>0.0</td>\n",
       "      <td>0.0</td>\n",
       "      <td>0.0</td>\n",
       "      <td>...</td>\n",
       "      <td>0.0</td>\n",
       "      <td>0.0</td>\n",
       "      <td>-67.5</td>\n",
       "      <td>-46.5</td>\n",
       "      <td>1.5</td>\n",
       "      <td>0.0</td>\n",
       "      <td>0.0</td>\n",
       "      <td>0.0</td>\n",
       "      <td>0.0</td>\n",
       "      <td>1.0</td>\n",
       "    </tr>\n",
       "    <tr>\n",
       "      <th>2</th>\n",
       "      <td>0.0</td>\n",
       "      <td>0.0</td>\n",
       "      <td>1.0</td>\n",
       "      <td>0.0</td>\n",
       "      <td>0.0</td>\n",
       "      <td>0.0</td>\n",
       "      <td>0.0</td>\n",
       "      <td>0.0</td>\n",
       "      <td>0.0</td>\n",
       "      <td>0.0</td>\n",
       "      <td>...</td>\n",
       "      <td>0.0</td>\n",
       "      <td>0.0</td>\n",
       "      <td>-67.5</td>\n",
       "      <td>-43.5</td>\n",
       "      <td>-4.5</td>\n",
       "      <td>0.0</td>\n",
       "      <td>0.0</td>\n",
       "      <td>0.0</td>\n",
       "      <td>0.0</td>\n",
       "      <td>1.0</td>\n",
       "    </tr>\n",
       "    <tr>\n",
       "      <th>3</th>\n",
       "      <td>0.0</td>\n",
       "      <td>0.0</td>\n",
       "      <td>1.0</td>\n",
       "      <td>0.0</td>\n",
       "      <td>0.0</td>\n",
       "      <td>0.0</td>\n",
       "      <td>0.0</td>\n",
       "      <td>0.0</td>\n",
       "      <td>0.0</td>\n",
       "      <td>0.0</td>\n",
       "      <td>...</td>\n",
       "      <td>0.0</td>\n",
       "      <td>0.0</td>\n",
       "      <td>-67.5</td>\n",
       "      <td>-43.5</td>\n",
       "      <td>-1.5</td>\n",
       "      <td>0.0</td>\n",
       "      <td>0.0</td>\n",
       "      <td>0.0</td>\n",
       "      <td>0.0</td>\n",
       "      <td>1.0</td>\n",
       "    </tr>\n",
       "    <tr>\n",
       "      <th>4</th>\n",
       "      <td>0.0</td>\n",
       "      <td>0.0</td>\n",
       "      <td>1.0</td>\n",
       "      <td>1.0</td>\n",
       "      <td>0.0</td>\n",
       "      <td>0.0</td>\n",
       "      <td>0.0</td>\n",
       "      <td>0.0</td>\n",
       "      <td>0.0</td>\n",
       "      <td>0.0</td>\n",
       "      <td>...</td>\n",
       "      <td>0.0</td>\n",
       "      <td>0.0</td>\n",
       "      <td>-64.5</td>\n",
       "      <td>-52.5</td>\n",
       "      <td>-4.5</td>\n",
       "      <td>0.0</td>\n",
       "      <td>0.0</td>\n",
       "      <td>0.0</td>\n",
       "      <td>0.0</td>\n",
       "      <td>1.0</td>\n",
       "    </tr>\n",
       "  </tbody>\n",
       "</table>\n",
       "<p>5 rows × 43 columns</p>\n",
       "</div>"
      ],
      "text/plain": [
       "   EEG_sleep_score  FFA  HVC  LOC  LVC  PPA  Synset_building_ID_02913152  \\\n",
       "0              0.0  0.0  1.0  0.0  0.0  0.0                          0.0   \n",
       "1              0.0  0.0  1.0  0.0  0.0  0.0                          0.0   \n",
       "2              0.0  0.0  1.0  0.0  0.0  0.0                          0.0   \n",
       "3              0.0  0.0  1.0  0.0  0.0  0.0                          0.0   \n",
       "4              0.0  0.0  1.0  1.0  0.0  0.0                          0.0   \n",
       "\n",
       "   Synset_chair_ID_03001627  Synset_character_ID_06818970  \\\n",
       "0                       0.0                           0.0   \n",
       "1                       0.0                           0.0   \n",
       "2                       0.0                           0.0   \n",
       "3                       0.0                           0.0   \n",
       "4                       0.0                           0.0   \n",
       "\n",
       "   Synset_clothing_ID_03051540  ...   V2   V3     X     Y    Z  design  label  \\\n",
       "0                          0.0  ...  0.0  0.0 -67.5 -46.5 -1.5     0.0    0.0   \n",
       "1                          0.0  ...  0.0  0.0 -67.5 -46.5  1.5     0.0    0.0   \n",
       "2                          0.0  ...  0.0  0.0 -67.5 -43.5 -4.5     0.0    0.0   \n",
       "3                          0.0  ...  0.0  0.0 -67.5 -43.5 -1.5     0.0    0.0   \n",
       "4                          0.0  ...  0.0  0.0 -64.5 -52.5 -4.5     0.0    0.0   \n",
       "\n",
       "   sample_number  session_number  voxelData  \n",
       "0            0.0             0.0        1.0  \n",
       "1            0.0             0.0        1.0  \n",
       "2            0.0             0.0        1.0  \n",
       "3            0.0             0.0        1.0  \n",
       "4            0.0             0.0        1.0  \n",
       "\n",
       "[5 rows x 43 columns]"
      ]
     },
     "execution_count": 18,
     "metadata": {},
     "output_type": "execute_result"
    }
   ],
   "source": [
    "print(meta_df.shape)\n",
    "meta_df.head()"
   ]
  },
  {
   "cell_type": "code",
   "execution_count": 19,
   "id": "6b7bad9e",
   "metadata": {
    "scrolled": true
   },
   "outputs": [
    {
     "name": "stdout",
     "output_type": "stream",
     "text": [
      "(235, 4039)\n"
     ]
    }
   ],
   "source": [
    "print(data_df.shape)"
   ]
  },
  {
   "cell_type": "code",
   "execution_count": 21,
   "id": "0c2a91b3",
   "metadata": {
    "scrolled": true
   },
   "outputs": [
    {
     "data": {
      "text/plain": [
       "array([[-1.23439404e+00, -4.87027437e-01,  1.19918902e+00, ...,\n",
       "         1.00000000e+00,  1.00000000e+00,  1.00000000e+00],\n",
       "       [ 1.63373625e+00,  5.24539088e+00, -1.69498203e+00, ...,\n",
       "         1.00000000e+00,  1.00000000e+00,  2.00000000e+00],\n",
       "       [ 4.01640746e-01,  3.25192376e+00, -1.38049469e+00, ...,\n",
       "         1.00000000e+00,  1.00000000e+00,  3.00000000e+00],\n",
       "       ...,\n",
       "       [-2.85550630e+00, -2.69055550e+00, -1.17711014e+00, ...,\n",
       "         1.00000000e+00,  2.60000000e+01,  2.33000000e+02],\n",
       "       [-1.89436357e-01, -1.59084747e+00,  2.13385080e+00, ...,\n",
       "         1.00000000e+00,  2.60000000e+01,  2.34000000e+02],\n",
       "       [-1.89219074e+00, -2.45376516e+00,  3.57550935e+00, ...,\n",
       "         1.00000000e+00,  2.60000000e+01,  2.35000000e+02]])"
      ]
     },
     "execution_count": 21,
     "metadata": {},
     "output_type": "execute_result"
    }
   ],
   "source": [
    "data_df"
   ]
  },
  {
   "cell_type": "markdown",
   "id": "45f66469",
   "metadata": {},
   "source": [
    "Now that we're done with exploration, I'll add a module `utils` with the function `load_data` into the main project folder so that we can get these structures more easily. I added full docstrings, so it should be pretty easy to use, just take a look in the file for info on inputs and outputs."
   ]
  },
  {
   "cell_type": "code",
   "execution_count": 24,
   "id": "c4b3d106",
   "metadata": {},
   "outputs": [],
   "source": [
    "import utils\n",
    "\n",
    "masks, data =  utils.load_data(1)"
   ]
  },
  {
   "cell_type": "code",
   "execution_count": 25,
   "id": "c76774f6",
   "metadata": {},
   "outputs": [
    {
     "data": {
      "text/html": [
       "<div>\n",
       "<style scoped>\n",
       "    .dataframe tbody tr th:only-of-type {\n",
       "        vertical-align: middle;\n",
       "    }\n",
       "\n",
       "    .dataframe tbody tr th {\n",
       "        vertical-align: top;\n",
       "    }\n",
       "\n",
       "    .dataframe thead th {\n",
       "        text-align: right;\n",
       "    }\n",
       "</style>\n",
       "<table border=\"1\" class=\"dataframe\">\n",
       "  <thead>\n",
       "    <tr style=\"text-align: right;\">\n",
       "      <th></th>\n",
       "      <th>EEG_sleep_score</th>\n",
       "      <th>FFA</th>\n",
       "      <th>HVC</th>\n",
       "      <th>LOC</th>\n",
       "      <th>LVC</th>\n",
       "      <th>PPA</th>\n",
       "      <th>Synset_building_ID_02913152</th>\n",
       "      <th>Synset_chair_ID_03001627</th>\n",
       "      <th>Synset_character_ID_06818970</th>\n",
       "      <th>Synset_clothing_ID_03051540</th>\n",
       "      <th>...</th>\n",
       "      <th>V2</th>\n",
       "      <th>V3</th>\n",
       "      <th>X</th>\n",
       "      <th>Y</th>\n",
       "      <th>Z</th>\n",
       "      <th>design</th>\n",
       "      <th>label</th>\n",
       "      <th>sample_number</th>\n",
       "      <th>session_number</th>\n",
       "      <th>voxelData</th>\n",
       "    </tr>\n",
       "  </thead>\n",
       "  <tbody>\n",
       "    <tr>\n",
       "      <th>0</th>\n",
       "      <td>0.0</td>\n",
       "      <td>0.0</td>\n",
       "      <td>1.0</td>\n",
       "      <td>0.0</td>\n",
       "      <td>0.0</td>\n",
       "      <td>0.0</td>\n",
       "      <td>0.0</td>\n",
       "      <td>0.0</td>\n",
       "      <td>0.0</td>\n",
       "      <td>0.0</td>\n",
       "      <td>...</td>\n",
       "      <td>0.0</td>\n",
       "      <td>0.0</td>\n",
       "      <td>-67.5</td>\n",
       "      <td>-46.5</td>\n",
       "      <td>-1.5</td>\n",
       "      <td>0.0</td>\n",
       "      <td>0.0</td>\n",
       "      <td>0.0</td>\n",
       "      <td>0.0</td>\n",
       "      <td>1.0</td>\n",
       "    </tr>\n",
       "    <tr>\n",
       "      <th>1</th>\n",
       "      <td>0.0</td>\n",
       "      <td>0.0</td>\n",
       "      <td>1.0</td>\n",
       "      <td>0.0</td>\n",
       "      <td>0.0</td>\n",
       "      <td>0.0</td>\n",
       "      <td>0.0</td>\n",
       "      <td>0.0</td>\n",
       "      <td>0.0</td>\n",
       "      <td>0.0</td>\n",
       "      <td>...</td>\n",
       "      <td>0.0</td>\n",
       "      <td>0.0</td>\n",
       "      <td>-67.5</td>\n",
       "      <td>-46.5</td>\n",
       "      <td>1.5</td>\n",
       "      <td>0.0</td>\n",
       "      <td>0.0</td>\n",
       "      <td>0.0</td>\n",
       "      <td>0.0</td>\n",
       "      <td>1.0</td>\n",
       "    </tr>\n",
       "    <tr>\n",
       "      <th>2</th>\n",
       "      <td>0.0</td>\n",
       "      <td>0.0</td>\n",
       "      <td>1.0</td>\n",
       "      <td>0.0</td>\n",
       "      <td>0.0</td>\n",
       "      <td>0.0</td>\n",
       "      <td>0.0</td>\n",
       "      <td>0.0</td>\n",
       "      <td>0.0</td>\n",
       "      <td>0.0</td>\n",
       "      <td>...</td>\n",
       "      <td>0.0</td>\n",
       "      <td>0.0</td>\n",
       "      <td>-67.5</td>\n",
       "      <td>-43.5</td>\n",
       "      <td>-4.5</td>\n",
       "      <td>0.0</td>\n",
       "      <td>0.0</td>\n",
       "      <td>0.0</td>\n",
       "      <td>0.0</td>\n",
       "      <td>1.0</td>\n",
       "    </tr>\n",
       "    <tr>\n",
       "      <th>3</th>\n",
       "      <td>0.0</td>\n",
       "      <td>0.0</td>\n",
       "      <td>1.0</td>\n",
       "      <td>0.0</td>\n",
       "      <td>0.0</td>\n",
       "      <td>0.0</td>\n",
       "      <td>0.0</td>\n",
       "      <td>0.0</td>\n",
       "      <td>0.0</td>\n",
       "      <td>0.0</td>\n",
       "      <td>...</td>\n",
       "      <td>0.0</td>\n",
       "      <td>0.0</td>\n",
       "      <td>-67.5</td>\n",
       "      <td>-43.5</td>\n",
       "      <td>-1.5</td>\n",
       "      <td>0.0</td>\n",
       "      <td>0.0</td>\n",
       "      <td>0.0</td>\n",
       "      <td>0.0</td>\n",
       "      <td>1.0</td>\n",
       "    </tr>\n",
       "    <tr>\n",
       "      <th>4</th>\n",
       "      <td>0.0</td>\n",
       "      <td>0.0</td>\n",
       "      <td>1.0</td>\n",
       "      <td>1.0</td>\n",
       "      <td>0.0</td>\n",
       "      <td>0.0</td>\n",
       "      <td>0.0</td>\n",
       "      <td>0.0</td>\n",
       "      <td>0.0</td>\n",
       "      <td>0.0</td>\n",
       "      <td>...</td>\n",
       "      <td>0.0</td>\n",
       "      <td>0.0</td>\n",
       "      <td>-64.5</td>\n",
       "      <td>-52.5</td>\n",
       "      <td>-4.5</td>\n",
       "      <td>0.0</td>\n",
       "      <td>0.0</td>\n",
       "      <td>0.0</td>\n",
       "      <td>0.0</td>\n",
       "      <td>1.0</td>\n",
       "    </tr>\n",
       "  </tbody>\n",
       "</table>\n",
       "<p>5 rows × 43 columns</p>\n",
       "</div>"
      ],
      "text/plain": [
       "   EEG_sleep_score  FFA  HVC  LOC  LVC  PPA  Synset_building_ID_02913152  \\\n",
       "0              0.0  0.0  1.0  0.0  0.0  0.0                          0.0   \n",
       "1              0.0  0.0  1.0  0.0  0.0  0.0                          0.0   \n",
       "2              0.0  0.0  1.0  0.0  0.0  0.0                          0.0   \n",
       "3              0.0  0.0  1.0  0.0  0.0  0.0                          0.0   \n",
       "4              0.0  0.0  1.0  1.0  0.0  0.0                          0.0   \n",
       "\n",
       "   Synset_chair_ID_03001627  Synset_character_ID_06818970  \\\n",
       "0                       0.0                           0.0   \n",
       "1                       0.0                           0.0   \n",
       "2                       0.0                           0.0   \n",
       "3                       0.0                           0.0   \n",
       "4                       0.0                           0.0   \n",
       "\n",
       "   Synset_clothing_ID_03051540  ...   V2   V3     X     Y    Z  design  label  \\\n",
       "0                          0.0  ...  0.0  0.0 -67.5 -46.5 -1.5     0.0    0.0   \n",
       "1                          0.0  ...  0.0  0.0 -67.5 -46.5  1.5     0.0    0.0   \n",
       "2                          0.0  ...  0.0  0.0 -67.5 -43.5 -4.5     0.0    0.0   \n",
       "3                          0.0  ...  0.0  0.0 -67.5 -43.5 -1.5     0.0    0.0   \n",
       "4                          0.0  ...  0.0  0.0 -64.5 -52.5 -4.5     0.0    0.0   \n",
       "\n",
       "   sample_number  session_number  voxelData  \n",
       "0            0.0             0.0        1.0  \n",
       "1            0.0             0.0        1.0  \n",
       "2            0.0             0.0        1.0  \n",
       "3            0.0             0.0        1.0  \n",
       "4            0.0             0.0        1.0  \n",
       "\n",
       "[5 rows x 43 columns]"
      ]
     },
     "execution_count": 25,
     "metadata": {},
     "output_type": "execute_result"
    }
   ],
   "source": [
    "masks.head()"
   ]
  },
  {
   "cell_type": "code",
   "execution_count": 26,
   "id": "e499798e",
   "metadata": {},
   "outputs": [
    {
     "name": "stdout",
     "output_type": "stream",
     "text": [
      "data shape: (235, 4039)\n"
     ]
    }
   ],
   "source": [
    "print(f\"data shape: {data.shape}\")"
   ]
  }
 ],
 "metadata": {
  "kernelspec": {
   "display_name": "Python 3",
   "language": "python",
   "name": "python3"
  },
  "language_info": {
   "codemirror_mode": {
    "name": "ipython",
    "version": 3
   },
   "file_extension": ".py",
   "mimetype": "text/x-python",
   "name": "python",
   "nbconvert_exporter": "python",
   "pygments_lexer": "ipython3",
   "version": "3.8.8"
  }
 },
 "nbformat": 4,
 "nbformat_minor": 5
}
