{
 "cells": [
  {
   "cell_type": "markdown",
   "id": "fd61fdcc",
   "metadata": {},
   "source": [
    "# Initial Data Exploration\n",
    "This is going to be a little difficult for a couple of reasons\n",
    "\n",
    "1. The data is poorly described, there is not accompanying readme or documentation on what each of the fields means. We are going to have to rely on the [original paper](https://www.researchgate.net/profile/Masako-Tamaki/publication/236113471_Neural_Decoding_of_Visual_Imagery_During_Sleep/links/02e7e53a5e1eba1005000000/Neural-Decoding-of-Visual-Imagery-During-Sleep.pdf) and its [supplemental materials](https://www.science.org/doi/suppl/10.1126/science.1234330/suppl_file/horikawa.sm.pdf) to figure out how to use it\n",
    "2. The data is in an h5 format, which is something we haven't worked with before\n",
    "3. The data is spread across several files, so we will have to aggregate it ourselves"
   ]
  },
  {
   "cell_type": "code",
   "execution_count": 34,
   "id": "6f1f8745",
   "metadata": {},
   "outputs": [
    {
     "name": "stdout",
     "output_type": "stream",
     "text": [
      "PreprocessedPerceptionDataSubject1.h5  PreprocessedSleepDataSubject3.h5\r\n",
      "PreprocessedPerceptionDataSubject2.h5  propsSubject1.h5\r\n",
      "PreprocessedPerceptionDataSubject3.h5  propsSubject2.h5\r\n",
      "PreprocessedSleepDataSubject1.h5       propsSubject3.h5\r\n",
      "PreprocessedSleepDataSubject2.h5\r\n"
     ]
    }
   ],
   "source": [
    "!ls preproc"
   ]
  },
  {
   "cell_type": "markdown",
   "id": "a8c6a38c",
   "metadata": {},
   "source": [
    "The files appear to be in \"h5\" format, which we can read using the h5py library ([documentation](https://docs.h5py.org/en/stable/))\n",
    "\n",
    "It seems like there's 3 different classes of files, Perception data, Sleep data, and \"props\"?\n",
    "\n",
    "The paper attempts to reconstruct visual data rather than just classify, so it uses a decoder trained from perception data while viewing particular images, most likely the \"Perception\" data, so we can probably ignore this. \n",
    "\n",
    "The sleep data probably has what we are looking for.\n",
    "\n",
    "I'm not really sure what props is."
   ]
  },
  {
   "cell_type": "code",
   "execution_count": 46,
   "id": "29db66aa",
   "metadata": {},
   "outputs": [],
   "source": [
    "import h5py\n",
    "import os"
   ]
  },
  {
   "cell_type": "code",
   "execution_count": 47,
   "id": "48aea9ec",
   "metadata": {},
   "outputs": [],
   "source": [
    "root = \"preproc/\"\n",
    "perc = root + \"PreprocessedPerceptionDataSubject1.h5\"\n",
    "sleep = root+ \"PreprocessedSleepDataSubject1.h5\"\n",
    "props = root+ \"propsSubject1.h5\""
   ]
  },
  {
   "cell_type": "markdown",
   "id": "012e5670",
   "metadata": {},
   "source": [
    "Start with sleep data"
   ]
  },
  {
   "cell_type": "code",
   "execution_count": 76,
   "id": "6fc3ac4b",
   "metadata": {},
   "outputs": [
    {
     "data": {
      "text/plain": [
       "<KeysViewHDF5 ['data', 'metaData', 'metaDefinition']>"
      ]
     },
     "execution_count": 76,
     "metadata": {},
     "output_type": "execute_result"
    }
   ],
   "source": [
    "dfile = h5py.File(sleep, \"r\")\n",
    "dfile.keys()"
   ]
  },
  {
   "cell_type": "markdown",
   "id": "28ce874a",
   "metadata": {},
   "source": [
    "Looks like theres 3 keys in the dataset, data, metadata, and metadefinition"
   ]
  },
  {
   "cell_type": "code",
   "execution_count": 77,
   "id": "17d1dcd8",
   "metadata": {},
   "outputs": [
    {
     "name": "stdout",
     "output_type": "stream",
     "text": [
      "data (235, 4039) float64 [-1.23439404 -0.48702744  1.19918902 ...  1.          1.\n",
      "  1.        ]\n",
      "\n",
      "metaData <HDF5 group \"/metaData\" (43 members)> <class 'str'>\n",
      "\n",
      "metaDefinition (43,) |S33 b'0 = not voxelData, 1 = voxelData'\n",
      "\n"
     ]
    }
   ],
   "source": [
    "for key in dfile.keys():\n",
    "    dset = dfile[key]\n",
    "    try:\n",
    "        print(key, dset.shape, dset.dtype, dset[0], end=\"\\n\\n\")\n",
    "    except:\n",
    "        print(key, dset, type(key), end=\"\\n\\n\")"
   ]
  },
  {
   "cell_type": "code",
   "execution_count": 92,
   "id": "af3c3957",
   "metadata": {},
   "outputs": [
    {
     "data": {
      "text/plain": [
       "(198, 3981)"
      ]
     },
     "execution_count": 92,
     "metadata": {},
     "output_type": "execute_result"
    }
   ],
   "source": [
    "tfile = h5py.File(root+ \"PreprocessedSleepDataSubject2.h5\", \"r\")\n",
    "tfile[\"data\"].shape"
   ]
  },
  {
   "cell_type": "markdown",
   "id": "f8b5d4e1",
   "metadata": {},
   "source": [
    "Looks like data is just a 2D array of data with where the first dimension is the number of \"awakenings\", which is confirmed by the paper...\n",
    "> (235, 198, and\n",
    "186 awakenings for participants 1 to 3, respec-\n",
    "tively, used for decoding analyses) \n",
    "\n",
    "metaData is a group and metaDefinition contains some kind of string data, the \"meta\" datasets seem to be related since they have the same number of elements"
   ]
  },
  {
   "cell_type": "code",
   "execution_count": 105,
   "id": "6cce17f4",
   "metadata": {},
   "outputs": [
    {
     "name": "stdout",
     "output_type": "stream",
     "text": [
      "0 EEG_sleep_score  --  b'0 = not voxelData, 1 = voxelData'\n",
      "1 FFA  --  b'Value = X coordinate'\n",
      "2 HVC  --  b'Value = Y coordinate'\n",
      "3 LOC  --  b'Value = Z coordinate'\n",
      "4 LVC  --  b'0 = not FFA voxel, 1 = FFA voxel'\n",
      "5 PPA  --  b'0 = not HVC voxel, 1 = HVC voxel'\n",
      "6 Synset_building_ID_02913152  --  b'0 = not LOC voxel, 1 = LOC voxel'\n",
      "7 Synset_chair_ID_03001627  --  b'0 = not LVC voxel, 1 = LVC voxel'\n",
      "8 Synset_character_ID_06818970  --  b'0 = not PPA voxel, 1 = PPA voxel'\n",
      "9 Synset_clothing_ID_03051540  --  b'0 = not V1 voxel, 1 = V1 voxel'\n",
      "10 Synset_code_ID_06355894  --  b'0 = not V2 voxel, 1 = V2 voxel'\n",
      "11 Synset_cognition_ID_00023271  --  b'0 = not V3 voxel, 1 = V3 voxel'\n",
      "12 Synset_external_body_part_ID_05225090  --  b'0 = not label, 1 = label'\n",
      "13 Synset_geographical_area_ID_08574314  --  b'0 = absent, 1 = present'\n",
      "14 Synset_girl_ID_10129825  --  b'0 = absent, 1 = present'\n",
      "15 Synset_group_ID_00031264  --  b'0 = absent, 1 = present'\n",
      "16 Synset_illustration_ID_06999233  --  b'0 = absent, 1 = present'\n",
      "17 Synset_implement_ID_03563967  --  b'0 = absent, 1 = present'\n",
      "18 Synset_line_ID_06799897  --  b'0 = absent, 1 = present'\n",
      "19 Synset_male_ID_09624168  --  b'0 = absent, 1 = present'\n",
      "20 Synset_material_ID_14580897  --  b'0 = absent, 1 = present'\n",
      "21 Synset_natural_object_ID_00019128  --  b'0 = absent, 1 = present'\n",
      "22 Synset_performer_ID_10415638  --  b'0 = absent, 1 = present'\n",
      "23 Synset_picture_ID_03931044  --  b'0 = absent, 1 = present'\n",
      "24 Synset_room_ID_04105893  --  b'0 = absent, 1 = present'\n",
      "25 Synset_shape_ID_00027807  --  b'0 = absent, 1 = present'\n",
      "26 Synset_table_ID_04379243  --  b'0 = absent, 1 = present'\n",
      "27 Synset_vertebrate_ID_01471682  --  b'0 = absent, 1 = present'\n",
      "28 Synset_way_ID_04564698  --  b'0 = absent, 1 = present'\n",
      "29 Synset_window_ID_04588739  --  b'0 = absent, 1 = present'\n",
      "30 Synset_workplace_ID_04602044  --  b'0 = absent, 1 = present'\n",
      "31 Synset_writing_ID_06362953  --  b'0 = absent, 1 = present'\n",
      "32 V1  --  b'0 = absent, 1 = present'\n",
      "33 V2  --  b'0 = absent, 1 = present'\n",
      "34 V3  --  b'0 = absent, 1 = present'\n",
      "35 X  --  b'0 = absent, 1 = present'\n",
      "36 Y  --  b'0 = absent, 1 = present'\n",
      "37 Z  --  b'0 = absent, 1 = present'\n",
      "38 design  --  b'0 = absent, 1 = present'\n",
      "39 label  --  b'0 = absent, 1 = present'\n",
      "40 sample_number  --  b'0 = not design, 1 = design'\n",
      "41 session_number  --  b'Number = Sesssion number'\n",
      "42 voxelData  --  b'Number = Sample number'\n"
     ]
    }
   ],
   "source": [
    "data = dfile[\"data\"]\n",
    "mdata = dfile[\"metaData\"]\n",
    "mdef = dfile[\"metaDefinition\"]\n",
    "for i, item in enumerate(mdata):\n",
    "    print(i, item, \" -- \",mdef[i])"
   ]
  },
  {
   "cell_type": "markdown",
   "id": "48ea5cf7",
   "metadata": {},
   "source": [
    "Seem to be feature-value pairs, but I'm not really sure how that maps to the data vector?\n",
    "\n",
    "Also, these seem to be out of order, most likely since dictionary indexing is unordered, but I'm not sure how to fix that. It may just be even more poor dataset creation on the part of the authors...\n",
    "\n",
    "From the paper we know...\n",
    "- LVC, HVC, V1, V2, V3, LOC, FF, and PPA are all visual areas. These will be our input\n",
    "- Synsets are the different \"classes\" of things they saw in their dreams, these will be our output.\n",
    "\n",
    "I'm still no sure where the data is split, so for now, I'm going to look at the \"props\" data and hope its in there"
   ]
  },
  {
   "cell_type": "code",
   "execution_count": 79,
   "id": "9644cbf9",
   "metadata": {},
   "outputs": [
    {
     "data": {
      "text/plain": [
       "<KeysViewHDF5 ['roiMask', 'roiNames', 'synsetNames', 'synsetPairs', 'xyz']>"
      ]
     },
     "execution_count": 79,
     "metadata": {},
     "output_type": "execute_result"
    }
   ],
   "source": [
    "pfile = h5py.File(props, \"r\")\n",
    "pfile.keys()"
   ]
  },
  {
   "cell_type": "code",
   "execution_count": 80,
   "id": "787658bb",
   "metadata": {},
   "outputs": [
    {
     "name": "stdout",
     "output_type": "stream",
     "text": [
      "roiMask (8, 4010) float64 [0. 0. 0. ... 0. 0. 0.]\n",
      "\n",
      "roiNames (8,) |S4 b'FFA'\n",
      "\n",
      "synsetNames (26,) |S38 b'Synset_male_ID_09624168'\n",
      "\n",
      "synsetPairs (201, 2) |S38 [b'Synset_character_ID_06818970' b'Synset_male_ID_09624168']\n",
      "\n",
      "xyz (3, 4010) float64 [-67.5 -67.5 -67.5 ...  64.5  64.5  64.5]\n",
      "\n"
     ]
    }
   ],
   "source": [
    "for key in pfile.keys():\n",
    "    dset = pfile[key]\n",
    "    try:\n",
    "        print(key, dset.shape, dset.dtype, dset[0], end=\"\\n\\n\")\n",
    "    except:\n",
    "        print(key, dset, type(key), end=\"\\n\\n\")"
   ]
  },
  {
   "cell_type": "markdown",
   "id": "b7bd7cac",
   "metadata": {},
   "source": [
    "Luckily, this seems to be the information on the boundaries between each of the features described in the \"sleep\" data. From the supplemental materials, the roi is \"region of interest\" which is the region of the brain."
   ]
  },
  {
   "cell_type": "code",
   "execution_count": 81,
   "id": "e79b90b2",
   "metadata": {},
   "outputs": [
    {
     "name": "stdout",
     "output_type": "stream",
     "text": [
      "537.0 b'FFA'\n",
      "[-67.5 -43.5  -4.5]\n",
      "b'FFA'  --  537.0\n",
      "b'HVC'  --  1956.0\n",
      "b'LOC'  --  523.0\n",
      "b'LVC'  --  2054.0\n",
      "b'PPA'  --  353.0\n",
      "b'V1'  --  885.0\n",
      "b'V2'  --  901.0\n",
      "b'V3'  --  728.0\n"
     ]
    }
   ],
   "source": [
    "rmask = pfile[\"roiMask\"]\n",
    "rnames = pfile[\"roiNames\"]\n",
    "xyz = pfile[\"xyz\"]\n",
    "\n",
    "print(rmask[0, :].sum(), rnames[0])\n",
    "print(xyz[:, 2])\n",
    "\n",
    "for region in range(len(rnames)):\n",
    "    numel = rmask[region].sum()\n",
    "    print(rnames[region], \" -- \", numel)"
   ]
  },
  {
   "cell_type": "markdown",
   "id": "40dcbf2d",
   "metadata": {},
   "source": [
    "From the supplemental materials...\n",
    "> For the analysis of individual subareas, the following numbers of voxels were identified\n",
    "for V1, V2, V3, LOC, FFA, and PPA, respectively: 885, 901, 728, 523, 537, and 353 voxels for Subject 1;\n",
    "\n",
    "This matches with the sum of our region of interest masks, meaning that these masks do in fact show the region of interest. The \"xyz\" feature appears to be the voxel (3d pixel) coordinates corresponding to each entry in our region of interest (which we don't really need)"
   ]
  },
  {
   "cell_type": "code",
   "execution_count": 100,
   "id": "042e0c8d",
   "metadata": {},
   "outputs": [
    {
     "name": "stdout",
     "output_type": "stream",
     "text": [
      "(235, 4039)\n",
      "(4010,)\n"
     ]
    }
   ],
   "source": [
    "print(data.shape)\n",
    "ffa_mask = rmask[0].astype(bool)\n",
    "print(ffa_mask.shape)"
   ]
  },
  {
   "cell_type": "markdown",
   "id": "ce997ffd",
   "metadata": {},
   "source": [
    "The mask seems to be shorter by 29 elements, which I would assume is the space for the meta elements?"
   ]
  },
  {
   "cell_type": "code",
   "execution_count": 102,
   "id": "1a168ae9",
   "metadata": {},
   "outputs": [
    {
     "data": {
      "text/plain": [
       "array([  1.97166996,   1.        ,   0.        ,   0.        ,\n",
       "         0.        ,   0.        ,   0.        ,   0.        ,\n",
       "         0.        ,   0.        ,   0.        ,   0.        ,\n",
       "         0.        ,   0.        ,   0.        ,   0.        ,\n",
       "         0.        ,   0.        ,   0.        ,   0.        ,\n",
       "         0.        ,   0.        ,   0.        ,   0.        ,\n",
       "         0.        ,   0.        ,   0.        ,   1.        ,\n",
       "        26.        , 235.        ])"
      ]
     },
     "execution_count": 102,
     "metadata": {},
     "output_type": "execute_result"
    }
   ],
   "source": [
    "data[-1, 4009:]"
   ]
  },
  {
   "cell_type": "markdown",
   "id": "febb4b41",
   "metadata": {},
   "source": [
    "Yep! The last two seem to be numbers rather than logical values which matches what we would expect if `mdef` is properly ordered. Now we just need to extract all of the info into a more user-friendly form, probably pandas."
   ]
  }
 ],
 "metadata": {
  "kernelspec": {
   "display_name": "Python 3 (ipykernel)",
   "language": "python",
   "name": "python3"
  },
  "language_info": {
   "codemirror_mode": {
    "name": "ipython",
    "version": 3
   },
   "file_extension": ".py",
   "mimetype": "text/x-python",
   "name": "python",
   "nbconvert_exporter": "python",
   "pygments_lexer": "ipython3",
   "version": "3.9.13"
  }
 },
 "nbformat": 4,
 "nbformat_minor": 5
}
